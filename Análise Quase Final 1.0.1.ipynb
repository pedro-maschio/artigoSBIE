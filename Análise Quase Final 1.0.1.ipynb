{
 "cells": [
  {
   "cell_type": "code",
   "execution_count": 1,
   "metadata": {},
   "outputs": [],
   "source": [
    "import numpy as np \n",
    "import pandas as pd\n",
    "import matplotlib.pyplot as plt\n",
    "from datetime import datetime\n",
    "from datetime import date\n",
    "import seaborn as sns\n",
    "import scipy\n",
    "# p_ = primeiro questionário aplicado\n",
    "# s_ = segundo questionário aplicado\n",
    "# c_ = compilado dos questionários\n",
    "\n",
    "p_quiz_prof = pd.read_csv('questionarios/p_questionario_professor.csv')\n",
    "p_quiz_aluno = pd.read_csv('questionarios/p_questionario_aluno.csv')\n",
    "\n",
    "s_quiz_prof = pd.read_csv('questionarios/s_questionario_professor.csv')\n",
    "s_quiz_aluno = pd.read_csv('questionarios/s_questionario_aluno.csv')\n",
    "\n",
    "c_quiz_prof = pd.read_csv('questionarios/c_questionario_professor.csv')\n",
    "c_quiz_aluno = pd.read_csv('questionarios/c_questionario_aluno.csv')\n",
    "\n",
    "\n",
    "questionarios = [p_quiz_prof, p_quiz_aluno, s_quiz_prof, s_quiz_aluno, c_quiz_prof, c_quiz_aluno]"
   ]
  },
  {
   "cell_type": "markdown",
   "metadata": {},
   "source": [
    "## Checando por inconsistências nas planilhas"
   ]
  },
  {
   "cell_type": "code",
   "execution_count": 2,
   "metadata": {},
   "outputs": [
    {
     "data": {
      "text/plain": [
       "True"
      ]
     },
     "execution_count": 2,
     "metadata": {},
     "output_type": "execute_result"
    }
   ],
   "source": [
    "len(p_quiz_aluno.columns) == len(p_quiz_prof.columns)"
   ]
  },
  {
   "cell_type": "code",
   "execution_count": 3,
   "metadata": {},
   "outputs": [
    {
     "data": {
      "text/plain": [
       "True"
      ]
     },
     "execution_count": 3,
     "metadata": {},
     "output_type": "execute_result"
    }
   ],
   "source": [
    "len(s_quiz_aluno.columns) == len(s_quiz_prof.columns)"
   ]
  },
  {
   "cell_type": "code",
   "execution_count": 4,
   "metadata": {},
   "outputs": [
    {
     "data": {
      "text/plain": [
       "True"
      ]
     },
     "execution_count": 4,
     "metadata": {},
     "output_type": "execute_result"
    }
   ],
   "source": [
    "len(c_quiz_aluno.columns) == len(c_quiz_prof.columns)"
   ]
  },
  {
   "cell_type": "markdown",
   "metadata": {},
   "source": [
    "## Renomeando as colunas"
   ]
  },
  {
   "cell_type": "code",
   "execution_count": 5,
   "metadata": {},
   "outputs": [],
   "source": [
    "p_quiz_aluno.columns = ['url', 'interatividade', 'recurso', 'densidade', 'dificuldade', 'visualizacoes', 'curtidas', 'descurtidas', 'favorito', 'comentarios', 'duracao', 'data', 'wordsnotrep', 'totalwords', 'ratio', 'nounsnotrep', 'nounstotal', 'ratio2']\n",
    "p_quiz_prof.columns = ['url', 'interatividade', 'recurso', 'densidade', 'dificuldade', 'visualizacoes', 'curtidas', 'descurtidas', 'favorito', 'comentarios', 'duracao', 'data', 'wordsnotrep', 'totalwords', 'ratio', 'nounsnotrep', 'nounstotal', 'ratio2']\n",
    "s_quiz_aluno.columns = ['url', 'interatividade', 'recurso', 'densidade', 'dificuldade', 'visualizacoes', 'curtidas', 'descurtidas', 'favorito', 'comentarios', 'duracao', 'data', 'wordsnotrep', 'totalwords', 'ratio', 'nounsnotrep', 'nounstotal', 'ratio2']\n",
    "s_quiz_prof.columns = ['url', 'interatividade', 'recurso', 'densidade', 'dificuldade', 'visualizacoes', 'curtidas', 'descurtidas', 'favorito', 'comentarios', 'duracao', 'data', 'wordsnotrep', 'totalwords', 'ratio', 'nounsnotrep', 'nounstotal', 'ratio2']\n",
    "c_quiz_aluno.columns = ['url', 'interatividade', 'recurso', 'densidade', 'dificuldade', 'visualizacoes', 'curtidas', 'descurtidas', 'favorito', 'comentarios', 'duracao', 'data', 'wordsnotrep', 'totalwords', 'ratio', 'nounsnotrep', 'nounstotal', 'ratio2']\n",
    "c_quiz_prof.columns = ['url', 'interatividade', 'recurso', 'densidade', 'dificuldade', 'visualizacoes', 'curtidas', 'descurtidas', 'favorito', 'comentarios', 'duracao', 'data', 'wordsnotrep', 'totalwords', 'ratio', 'nounsnotrep', 'nounstotal', 'ratio2']"
   ]
  },
  {
   "cell_type": "code",
   "execution_count": 6,
   "metadata": {},
   "outputs": [
    {
     "name": "stdout",
     "output_type": "stream",
     "text": [
      "<class 'pandas.core.frame.DataFrame'>\n",
      "RangeIndex: 66 entries, 0 to 65\n",
      "Data columns (total 18 columns):\n",
      " #   Column          Non-Null Count  Dtype  \n",
      "---  ------          --------------  -----  \n",
      " 0   url             66 non-null     object \n",
      " 1   interatividade  66 non-null     object \n",
      " 2   recurso         66 non-null     object \n",
      " 3   densidade       66 non-null     object \n",
      " 4   dificuldade     66 non-null     object \n",
      " 5   visualizacoes   66 non-null     int64  \n",
      " 6   curtidas        66 non-null     int64  \n",
      " 7   descurtidas     66 non-null     int64  \n",
      " 8   favorito        66 non-null     int64  \n",
      " 9   comentarios     66 non-null     int64  \n",
      " 10  duracao         66 non-null     int64  \n",
      " 11  data            66 non-null     object \n",
      " 12  wordsnotrep     61 non-null     float64\n",
      " 13  totalwords      61 non-null     float64\n",
      " 14  ratio           66 non-null     object \n",
      " 15  nounsnotrep     61 non-null     float64\n",
      " 16  nounstotal      61 non-null     float64\n",
      " 17  ratio2          66 non-null     object \n",
      "dtypes: float64(4), int64(6), object(8)\n",
      "memory usage: 9.4+ KB\n"
     ]
    }
   ],
   "source": [
    "c_quiz_prof.info()"
   ]
  },
  {
   "cell_type": "code",
   "execution_count": 7,
   "metadata": {},
   "outputs": [
    {
     "data": {
      "text/html": [
       "<div>\n",
       "<style scoped>\n",
       "    .dataframe tbody tr th:only-of-type {\n",
       "        vertical-align: middle;\n",
       "    }\n",
       "\n",
       "    .dataframe tbody tr th {\n",
       "        vertical-align: top;\n",
       "    }\n",
       "\n",
       "    .dataframe thead th {\n",
       "        text-align: right;\n",
       "    }\n",
       "</style>\n",
       "<table border=\"1\" class=\"dataframe\">\n",
       "  <thead>\n",
       "    <tr style=\"text-align: right;\">\n",
       "      <th></th>\n",
       "      <th>url</th>\n",
       "      <th>interatividade</th>\n",
       "      <th>recurso</th>\n",
       "      <th>densidade</th>\n",
       "      <th>dificuldade</th>\n",
       "      <th>visualizacoes</th>\n",
       "      <th>curtidas</th>\n",
       "      <th>descurtidas</th>\n",
       "      <th>favorito</th>\n",
       "      <th>comentarios</th>\n",
       "      <th>duracao</th>\n",
       "      <th>data</th>\n",
       "      <th>wordsnotrep</th>\n",
       "      <th>totalwords</th>\n",
       "      <th>ratio</th>\n",
       "      <th>nounsnotrep</th>\n",
       "      <th>nounstotal</th>\n",
       "      <th>ratio2</th>\n",
       "    </tr>\n",
       "  </thead>\n",
       "  <tbody>\n",
       "    <tr>\n",
       "      <th>0</th>\n",
       "      <td>https://www.youtube.com/watch?v=iFYWrDMfVNo</td>\n",
       "      <td>Expositivo</td>\n",
       "      <td>Analogia, Demonstração, Exemplo, Problema, Slide</td>\n",
       "      <td>Baixo</td>\n",
       "      <td>Fácil</td>\n",
       "      <td>12172</td>\n",
       "      <td>417</td>\n",
       "      <td>8</td>\n",
       "      <td>0</td>\n",
       "      <td>53</td>\n",
       "      <td>441</td>\n",
       "      <td>2015-10-19</td>\n",
       "      <td>299.0</td>\n",
       "      <td>641.0</td>\n",
       "      <td>0,46646</td>\n",
       "      <td>114.0</td>\n",
       "      <td>147.0</td>\n",
       "      <td>0,7755</td>\n",
       "    </tr>\n",
       "    <tr>\n",
       "      <th>1</th>\n",
       "      <td>https://www.youtube.com/watch?v=YUeiAhpPMjQ</td>\n",
       "      <td>Misto</td>\n",
       "      <td>Analogia, Demonstração, Exemplo, Exercício</td>\n",
       "      <td>Muito alto</td>\n",
       "      <td>Difícil</td>\n",
       "      <td>361</td>\n",
       "      <td>45</td>\n",
       "      <td>0</td>\n",
       "      <td>0</td>\n",
       "      <td>3</td>\n",
       "      <td>1118</td>\n",
       "      <td>2019-06-10</td>\n",
       "      <td>493.0</td>\n",
       "      <td>1576.0</td>\n",
       "      <td>0,31282</td>\n",
       "      <td>233.0</td>\n",
       "      <td>483.0</td>\n",
       "      <td>0,4824</td>\n",
       "    </tr>\n",
       "  </tbody>\n",
       "</table>\n",
       "</div>"
      ],
      "text/plain": [
       "                                           url interatividade  \\\n",
       "0  https://www.youtube.com/watch?v=iFYWrDMfVNo     Expositivo   \n",
       "1  https://www.youtube.com/watch?v=YUeiAhpPMjQ          Misto   \n",
       "\n",
       "                                            recurso   densidade dificuldade  \\\n",
       "0  Analogia, Demonstração, Exemplo, Problema, Slide       Baixo       Fácil   \n",
       "1        Analogia, Demonstração, Exemplo, Exercício  Muito alto     Difícil   \n",
       "\n",
       "   visualizacoes  curtidas  descurtidas  favorito  comentarios  duracao  \\\n",
       "0          12172       417            8         0           53      441   \n",
       "1            361        45            0         0            3     1118   \n",
       "\n",
       "         data  wordsnotrep  totalwords    ratio  nounsnotrep  nounstotal  \\\n",
       "0  2015-10-19        299.0       641.0  0,46646        114.0       147.0   \n",
       "1  2019-06-10        493.0      1576.0  0,31282        233.0       483.0   \n",
       "\n",
       "   ratio2  \n",
       "0  0,7755  \n",
       "1  0,4824  "
      ]
     },
     "execution_count": 7,
     "metadata": {},
     "output_type": "execute_result"
    }
   ],
   "source": [
    "p_quiz_aluno.head(2)"
   ]
  },
  {
   "cell_type": "code",
   "execution_count": 8,
   "metadata": {},
   "outputs": [
    {
     "data": {
      "text/html": [
       "<div>\n",
       "<style scoped>\n",
       "    .dataframe tbody tr th:only-of-type {\n",
       "        vertical-align: middle;\n",
       "    }\n",
       "\n",
       "    .dataframe tbody tr th {\n",
       "        vertical-align: top;\n",
       "    }\n",
       "\n",
       "    .dataframe thead th {\n",
       "        text-align: right;\n",
       "    }\n",
       "</style>\n",
       "<table border=\"1\" class=\"dataframe\">\n",
       "  <thead>\n",
       "    <tr style=\"text-align: right;\">\n",
       "      <th></th>\n",
       "      <th>url</th>\n",
       "      <th>interatividade</th>\n",
       "      <th>recurso</th>\n",
       "      <th>densidade</th>\n",
       "      <th>dificuldade</th>\n",
       "      <th>visualizacoes</th>\n",
       "      <th>curtidas</th>\n",
       "      <th>descurtidas</th>\n",
       "      <th>favorito</th>\n",
       "      <th>comentarios</th>\n",
       "      <th>duracao</th>\n",
       "      <th>data</th>\n",
       "      <th>wordsnotrep</th>\n",
       "      <th>totalwords</th>\n",
       "      <th>ratio</th>\n",
       "      <th>nounsnotrep</th>\n",
       "      <th>nounstotal</th>\n",
       "      <th>ratio2</th>\n",
       "    </tr>\n",
       "  </thead>\n",
       "  <tbody>\n",
       "    <tr>\n",
       "      <th>0</th>\n",
       "      <td>https://www.youtube.com/watch?v=-t_c6F_Uoeg</td>\n",
       "      <td>Expositivo</td>\n",
       "      <td>Apresentação</td>\n",
       "      <td>Muito alto</td>\n",
       "      <td>Fácil</td>\n",
       "      <td>33621</td>\n",
       "      <td>1276</td>\n",
       "      <td>2</td>\n",
       "      <td>0</td>\n",
       "      <td>0</td>\n",
       "      <td>451</td>\n",
       "      <td>2015-05-27</td>\n",
       "      <td>290</td>\n",
       "      <td>710</td>\n",
       "      <td>0,4085</td>\n",
       "      <td>123</td>\n",
       "      <td>280</td>\n",
       "      <td>0,4393</td>\n",
       "    </tr>\n",
       "    <tr>\n",
       "      <th>1</th>\n",
       "      <td>https://www.youtube.com/watch?v=1V7tRE0wFZQ</td>\n",
       "      <td>Expositivo</td>\n",
       "      <td>Diagrama, Slide</td>\n",
       "      <td>Médio</td>\n",
       "      <td>Muito fácil</td>\n",
       "      <td>2192</td>\n",
       "      <td>14</td>\n",
       "      <td>0</td>\n",
       "      <td>0</td>\n",
       "      <td>2</td>\n",
       "      <td>477</td>\n",
       "      <td>2018-11-28</td>\n",
       "      <td>261</td>\n",
       "      <td>603</td>\n",
       "      <td>0,4328</td>\n",
       "      <td>98</td>\n",
       "      <td>180</td>\n",
       "      <td>0,5444</td>\n",
       "    </tr>\n",
       "  </tbody>\n",
       "</table>\n",
       "</div>"
      ],
      "text/plain": [
       "                                           url interatividade  \\\n",
       "0  https://www.youtube.com/watch?v=-t_c6F_Uoeg     Expositivo   \n",
       "1  https://www.youtube.com/watch?v=1V7tRE0wFZQ     Expositivo   \n",
       "\n",
       "           recurso   densidade  dificuldade  visualizacoes  curtidas  \\\n",
       "0     Apresentação  Muito alto        Fácil          33621      1276   \n",
       "1  Diagrama, Slide       Médio  Muito fácil           2192        14   \n",
       "\n",
       "   descurtidas  favorito  comentarios  duracao        data  wordsnotrep  \\\n",
       "0            2         0            0      451  2015-05-27          290   \n",
       "1            0         0            2      477  2018-11-28          261   \n",
       "\n",
       "   totalwords   ratio  nounsnotrep  nounstotal  ratio2  \n",
       "0         710  0,4085          123         280  0,4393  \n",
       "1         603  0,4328           98         180  0,5444  "
      ]
     },
     "execution_count": 8,
     "metadata": {},
     "output_type": "execute_result"
    }
   ],
   "source": [
    "s_quiz_aluno.head(2)"
   ]
  },
  {
   "cell_type": "code",
   "execution_count": 9,
   "metadata": {},
   "outputs": [
    {
     "data": {
      "text/html": [
       "<div>\n",
       "<style scoped>\n",
       "    .dataframe tbody tr th:only-of-type {\n",
       "        vertical-align: middle;\n",
       "    }\n",
       "\n",
       "    .dataframe tbody tr th {\n",
       "        vertical-align: top;\n",
       "    }\n",
       "\n",
       "    .dataframe thead th {\n",
       "        text-align: right;\n",
       "    }\n",
       "</style>\n",
       "<table border=\"1\" class=\"dataframe\">\n",
       "  <thead>\n",
       "    <tr style=\"text-align: right;\">\n",
       "      <th></th>\n",
       "      <th>url</th>\n",
       "      <th>interatividade</th>\n",
       "      <th>recurso</th>\n",
       "      <th>densidade</th>\n",
       "      <th>dificuldade</th>\n",
       "      <th>visualizacoes</th>\n",
       "      <th>curtidas</th>\n",
       "      <th>descurtidas</th>\n",
       "      <th>favorito</th>\n",
       "      <th>comentarios</th>\n",
       "      <th>duracao</th>\n",
       "      <th>data</th>\n",
       "      <th>wordsnotrep</th>\n",
       "      <th>totalwords</th>\n",
       "      <th>ratio</th>\n",
       "      <th>nounsnotrep</th>\n",
       "      <th>nounstotal</th>\n",
       "      <th>ratio2</th>\n",
       "    </tr>\n",
       "  </thead>\n",
       "  <tbody>\n",
       "    <tr>\n",
       "      <th>0</th>\n",
       "      <td>https://www.youtube.com/watch?v=-t_c6F_Uoeg</td>\n",
       "      <td>Expositivo</td>\n",
       "      <td>Definição, Demonstração, Exemplo, Slide</td>\n",
       "      <td>Alto</td>\n",
       "      <td>Médio</td>\n",
       "      <td>33621</td>\n",
       "      <td>1276</td>\n",
       "      <td>2</td>\n",
       "      <td>0</td>\n",
       "      <td>0</td>\n",
       "      <td>451</td>\n",
       "      <td>2015-05-27</td>\n",
       "      <td>290</td>\n",
       "      <td>710</td>\n",
       "      <td>0,4085</td>\n",
       "      <td>123</td>\n",
       "      <td>280</td>\n",
       "      <td>0,4393</td>\n",
       "    </tr>\n",
       "    <tr>\n",
       "      <th>1</th>\n",
       "      <td>https://www.youtube.com/watch?v=1V7tRE0wFZQ</td>\n",
       "      <td>Expositivo</td>\n",
       "      <td>Apresentação, Exemplo, Palestra, Slide, Texto</td>\n",
       "      <td>Médio</td>\n",
       "      <td>Difícil</td>\n",
       "      <td>2192</td>\n",
       "      <td>14</td>\n",
       "      <td>0</td>\n",
       "      <td>0</td>\n",
       "      <td>2</td>\n",
       "      <td>477</td>\n",
       "      <td>2018-11-28</td>\n",
       "      <td>261</td>\n",
       "      <td>603</td>\n",
       "      <td>0,4328</td>\n",
       "      <td>98</td>\n",
       "      <td>180</td>\n",
       "      <td>0,5444</td>\n",
       "    </tr>\n",
       "  </tbody>\n",
       "</table>\n",
       "</div>"
      ],
      "text/plain": [
       "                                           url interatividade  \\\n",
       "0  https://www.youtube.com/watch?v=-t_c6F_Uoeg     Expositivo   \n",
       "1  https://www.youtube.com/watch?v=1V7tRE0wFZQ     Expositivo   \n",
       "\n",
       "                                         recurso densidade dificuldade  \\\n",
       "0        Definição, Demonstração, Exemplo, Slide      Alto       Médio   \n",
       "1  Apresentação, Exemplo, Palestra, Slide, Texto     Médio     Difícil   \n",
       "\n",
       "   visualizacoes  curtidas  descurtidas  favorito  comentarios  duracao  \\\n",
       "0          33621      1276            2         0            0      451   \n",
       "1           2192        14            0         0            2      477   \n",
       "\n",
       "         data  wordsnotrep  totalwords   ratio  nounsnotrep  nounstotal  \\\n",
       "0  2015-05-27          290         710  0,4085          123         280   \n",
       "1  2018-11-28          261         603  0,4328           98         180   \n",
       "\n",
       "   ratio2  \n",
       "0  0,4393  \n",
       "1  0,5444  "
      ]
     },
     "execution_count": 9,
     "metadata": {},
     "output_type": "execute_result"
    }
   ],
   "source": [
    "s_quiz_prof.head(2)"
   ]
  },
  {
   "cell_type": "code",
   "execution_count": 10,
   "metadata": {},
   "outputs": [
    {
     "data": {
      "text/html": [
       "<div>\n",
       "<style scoped>\n",
       "    .dataframe tbody tr th:only-of-type {\n",
       "        vertical-align: middle;\n",
       "    }\n",
       "\n",
       "    .dataframe tbody tr th {\n",
       "        vertical-align: top;\n",
       "    }\n",
       "\n",
       "    .dataframe thead th {\n",
       "        text-align: right;\n",
       "    }\n",
       "</style>\n",
       "<table border=\"1\" class=\"dataframe\">\n",
       "  <thead>\n",
       "    <tr style=\"text-align: right;\">\n",
       "      <th></th>\n",
       "      <th>url</th>\n",
       "      <th>interatividade</th>\n",
       "      <th>recurso</th>\n",
       "      <th>densidade</th>\n",
       "      <th>dificuldade</th>\n",
       "      <th>visualizacoes</th>\n",
       "      <th>curtidas</th>\n",
       "      <th>descurtidas</th>\n",
       "      <th>favorito</th>\n",
       "      <th>comentarios</th>\n",
       "      <th>duracao</th>\n",
       "      <th>data</th>\n",
       "      <th>wordsnotrep</th>\n",
       "      <th>totalwords</th>\n",
       "      <th>ratio</th>\n",
       "      <th>nounsnotrep</th>\n",
       "      <th>nounstotal</th>\n",
       "      <th>ratio2</th>\n",
       "    </tr>\n",
       "  </thead>\n",
       "  <tbody>\n",
       "    <tr>\n",
       "      <th>0</th>\n",
       "      <td>https://www.youtube.com/watch?v=iFYWrDMfVNo</td>\n",
       "      <td>Expositivo</td>\n",
       "      <td>Analogia, Demonstração, Exemplo, Problema, Slide</td>\n",
       "      <td>Baixo</td>\n",
       "      <td>Fácil</td>\n",
       "      <td>12172</td>\n",
       "      <td>417</td>\n",
       "      <td>8</td>\n",
       "      <td>0</td>\n",
       "      <td>53</td>\n",
       "      <td>441</td>\n",
       "      <td>2015-10-19</td>\n",
       "      <td>299.0</td>\n",
       "      <td>641.0</td>\n",
       "      <td>0,46646</td>\n",
       "      <td>114.0</td>\n",
       "      <td>147.0</td>\n",
       "      <td>0,7755</td>\n",
       "    </tr>\n",
       "    <tr>\n",
       "      <th>1</th>\n",
       "      <td>https://www.youtube.com/watch?v=YUeiAhpPMjQ</td>\n",
       "      <td>Misto</td>\n",
       "      <td>Analogia, Demonstração, Exemplo, Exercício</td>\n",
       "      <td>Muito alto</td>\n",
       "      <td>Difícil</td>\n",
       "      <td>361</td>\n",
       "      <td>45</td>\n",
       "      <td>0</td>\n",
       "      <td>0</td>\n",
       "      <td>3</td>\n",
       "      <td>1118</td>\n",
       "      <td>2019-06-10</td>\n",
       "      <td>493.0</td>\n",
       "      <td>1576.0</td>\n",
       "      <td>0,31282</td>\n",
       "      <td>233.0</td>\n",
       "      <td>483.0</td>\n",
       "      <td>0,4824</td>\n",
       "    </tr>\n",
       "  </tbody>\n",
       "</table>\n",
       "</div>"
      ],
      "text/plain": [
       "                                           url interatividade  \\\n",
       "0  https://www.youtube.com/watch?v=iFYWrDMfVNo     Expositivo   \n",
       "1  https://www.youtube.com/watch?v=YUeiAhpPMjQ          Misto   \n",
       "\n",
       "                                            recurso   densidade dificuldade  \\\n",
       "0  Analogia, Demonstração, Exemplo, Problema, Slide       Baixo       Fácil   \n",
       "1        Analogia, Demonstração, Exemplo, Exercício  Muito alto     Difícil   \n",
       "\n",
       "   visualizacoes  curtidas  descurtidas  favorito  comentarios  duracao  \\\n",
       "0          12172       417            8         0           53      441   \n",
       "1            361        45            0         0            3     1118   \n",
       "\n",
       "         data  wordsnotrep  totalwords    ratio  nounsnotrep  nounstotal  \\\n",
       "0  2015-10-19        299.0       641.0  0,46646        114.0       147.0   \n",
       "1  2019-06-10        493.0      1576.0  0,31282        233.0       483.0   \n",
       "\n",
       "   ratio2  \n",
       "0  0,7755  \n",
       "1  0,4824  "
      ]
     },
     "execution_count": 10,
     "metadata": {},
     "output_type": "execute_result"
    }
   ],
   "source": [
    "c_quiz_aluno.head(2)"
   ]
  },
  {
   "cell_type": "code",
   "execution_count": 11,
   "metadata": {},
   "outputs": [
    {
     "data": {
      "text/html": [
       "<div>\n",
       "<style scoped>\n",
       "    .dataframe tbody tr th:only-of-type {\n",
       "        vertical-align: middle;\n",
       "    }\n",
       "\n",
       "    .dataframe tbody tr th {\n",
       "        vertical-align: top;\n",
       "    }\n",
       "\n",
       "    .dataframe thead th {\n",
       "        text-align: right;\n",
       "    }\n",
       "</style>\n",
       "<table border=\"1\" class=\"dataframe\">\n",
       "  <thead>\n",
       "    <tr style=\"text-align: right;\">\n",
       "      <th></th>\n",
       "      <th>url</th>\n",
       "      <th>interatividade</th>\n",
       "      <th>recurso</th>\n",
       "      <th>densidade</th>\n",
       "      <th>dificuldade</th>\n",
       "      <th>visualizacoes</th>\n",
       "      <th>curtidas</th>\n",
       "      <th>descurtidas</th>\n",
       "      <th>favorito</th>\n",
       "      <th>comentarios</th>\n",
       "      <th>duracao</th>\n",
       "      <th>data</th>\n",
       "      <th>wordsnotrep</th>\n",
       "      <th>totalwords</th>\n",
       "      <th>ratio</th>\n",
       "      <th>nounsnotrep</th>\n",
       "      <th>nounstotal</th>\n",
       "      <th>ratio2</th>\n",
       "    </tr>\n",
       "  </thead>\n",
       "  <tbody>\n",
       "    <tr>\n",
       "      <th>0</th>\n",
       "      <td>https://www.youtube.com/watch?v=iFYWrDMfVNo</td>\n",
       "      <td>Expositivo</td>\n",
       "      <td>Apresentação, Demonstração, Exemplo, Introdução</td>\n",
       "      <td>Muito baixo</td>\n",
       "      <td>Fácil</td>\n",
       "      <td>12172</td>\n",
       "      <td>417</td>\n",
       "      <td>8</td>\n",
       "      <td>0</td>\n",
       "      <td>53</td>\n",
       "      <td>441</td>\n",
       "      <td>2015-10-19</td>\n",
       "      <td>299.0</td>\n",
       "      <td>641.0</td>\n",
       "      <td>0,46646</td>\n",
       "      <td>114.0</td>\n",
       "      <td>147.0</td>\n",
       "      <td>0,7755</td>\n",
       "    </tr>\n",
       "    <tr>\n",
       "      <th>1</th>\n",
       "      <td>https://www.youtube.com/watch?v=YUeiAhpPMjQ</td>\n",
       "      <td>Misto</td>\n",
       "      <td>Apresentação, Demonstração, Exemplo</td>\n",
       "      <td>Muito alto</td>\n",
       "      <td>Difícil</td>\n",
       "      <td>361</td>\n",
       "      <td>45</td>\n",
       "      <td>0</td>\n",
       "      <td>0</td>\n",
       "      <td>3</td>\n",
       "      <td>1118</td>\n",
       "      <td>2019-06-10</td>\n",
       "      <td>493.0</td>\n",
       "      <td>1576.0</td>\n",
       "      <td>0,31282</td>\n",
       "      <td>233.0</td>\n",
       "      <td>483.0</td>\n",
       "      <td>0,4824</td>\n",
       "    </tr>\n",
       "  </tbody>\n",
       "</table>\n",
       "</div>"
      ],
      "text/plain": [
       "                                           url interatividade  \\\n",
       "0  https://www.youtube.com/watch?v=iFYWrDMfVNo     Expositivo   \n",
       "1  https://www.youtube.com/watch?v=YUeiAhpPMjQ          Misto   \n",
       "\n",
       "                                           recurso    densidade dificuldade  \\\n",
       "0  Apresentação, Demonstração, Exemplo, Introdução  Muito baixo       Fácil   \n",
       "1              Apresentação, Demonstração, Exemplo   Muito alto     Difícil   \n",
       "\n",
       "   visualizacoes  curtidas  descurtidas  favorito  comentarios  duracao  \\\n",
       "0          12172       417            8         0           53      441   \n",
       "1            361        45            0         0            3     1118   \n",
       "\n",
       "         data  wordsnotrep  totalwords    ratio  nounsnotrep  nounstotal  \\\n",
       "0  2015-10-19        299.0       641.0  0,46646        114.0       147.0   \n",
       "1  2019-06-10        493.0      1576.0  0,31282        233.0       483.0   \n",
       "\n",
       "   ratio2  \n",
       "0  0,7755  \n",
       "1  0,4824  "
      ]
     },
     "execution_count": 11,
     "metadata": {},
     "output_type": "execute_result"
    }
   ],
   "source": [
    "c_quiz_prof.head(2)"
   ]
  },
  {
   "cell_type": "markdown",
   "metadata": {},
   "source": [
    "## Visualizando as variáveis categóricas dos questionários do professor"
   ]
  },
  {
   "cell_type": "markdown",
   "metadata": {},
   "source": [
    "### Densidade"
   ]
  },
  {
   "cell_type": "code",
   "execution_count": 12,
   "metadata": {},
   "outputs": [
    {
     "data": {
      "text/plain": [
       "<matplotlib.axes._subplots.AxesSubplot at 0x7f6d71f1b100>"
      ]
     },
     "execution_count": 12,
     "metadata": {},
     "output_type": "execute_result"
    },
    {
     "data": {
      "image/png": "[encoded data removed]",
      "text/plain": [
       "<Figure size 432x288 with 1 Axes>"
      ]
     },
     "metadata": {
      "needs_background": "light"
     },
     "output_type": "display_data"
    }
   ],
   "source": [
    "p_quiz_prof['densidade'].value_counts().plot(kind='bar')"
   ]
  },
  {
   "cell_type": "code",
   "execution_count": 13,
   "metadata": {},
   "outputs": [
    {
     "data": {
      "text/plain": [
       "<matplotlib.axes._subplots.AxesSubplot at 0x7f6d71efc280>"
      ]
     },
     "execution_count": 13,
     "metadata": {},
     "output_type": "execute_result"
    },
    {
     "data": {
      "image/png": "[encoded data removed]",
      "text/plain": [
       "<Figure size 432x288 with 1 Axes>"
      ]
     },
     "metadata": {
      "needs_background": "light"
     },
     "output_type": "display_data"
    }
   ],
   "source": [
    "s_quiz_prof['densidade'].value_counts().plot(kind='bar')"
   ]
  },
  {
   "cell_type": "code",
   "execution_count": 14,
   "metadata": {},
   "outputs": [
    {
     "data": {
      "text/plain": [
       "<matplotlib.axes._subplots.AxesSubplot at 0x7f6d717c2760>"
      ]
     },
     "execution_count": 14,
     "metadata": {},
     "output_type": "execute_result"
    },
    {
     "data": {
      "image/png": "[encoded data removed]",
      "text/plain": [
       "<Figure size 432x288 with 1 Axes>"
      ]
     },
     "metadata": {
      "needs_background": "light"
     },
     "output_type": "display_data"
    }
   ],
   "source": [
    "c_quiz_prof['densidade'].value_counts().plot(kind='bar')"
   ]
  },
  {
   "cell_type": "markdown",
   "metadata": {},
   "source": [
    "### Dificuldade"
   ]
  },
  {
   "cell_type": "code",
   "execution_count": 15,
   "metadata": {},
   "outputs": [
    {
     "data": {
      "text/plain": [
       "<matplotlib.axes._subplots.AxesSubplot at 0x7f6d717a03a0>"
      ]
     },
     "execution_count": 15,
     "metadata": {},
     "output_type": "execute_result"
    },
    {
     "data": {
      "image/png": "[encoded data removed]",
      "text/plain": [
       "<Figure size 432x288 with 1 Axes>"
      ]
     },
     "metadata": {
      "needs_background": "light"
     },
     "output_type": "display_data"
    }
   ],
   "source": [
    "p_quiz_prof['dificuldade'].value_counts().plot(kind='bar')"
   ]
  },
  {
   "cell_type": "code",
   "execution_count": 16,
   "metadata": {},
   "outputs": [
    {
     "data": {
      "text/plain": [
       "<matplotlib.axes._subplots.AxesSubplot at 0x7f6d71703e80>"
      ]
     },
     "execution_count": 16,
     "metadata": {},
     "output_type": "execute_result"
    },
    {
     "data": {
      "image/png": "[encoded data removed]",
      "text/plain": [
       "<Figure size 432x288 with 1 Axes>"
      ]
     },
     "metadata": {
      "needs_background": "light"
     },
     "output_type": "display_data"
    }
   ],
   "source": [
    "s_quiz_prof['dificuldade'].value_counts().plot(kind='bar')"
   ]
  },
  {
   "cell_type": "code",
   "execution_count": 17,
   "metadata": {},
   "outputs": [
    {
     "data": {
      "text/plain": [
       "<matplotlib.axes._subplots.AxesSubplot at 0x7f6d716b6790>"
      ]
     },
     "execution_count": 17,
     "metadata": {},
     "output_type": "execute_result"
    },
    {
     "data": {
      "image/png": "[encoded data removed]",
      "text/plain": [
       "<Figure size 432x288 with 1 Axes>"
      ]
     },
     "metadata": {
      "needs_background": "light"
     },
     "output_type": "display_data"
    }
   ],
   "source": [
    "c_quiz_prof['dificuldade'].value_counts().plot(kind='bar')"
   ]
  },
  {
   "cell_type": "markdown",
   "metadata": {},
   "source": [
    "## Visualizando as variáveis categóricas dos questionários do aluno"
   ]
  },
  {
   "cell_type": "markdown",
   "metadata": {},
   "source": [
    "### Densidade"
   ]
  },
  {
   "cell_type": "code",
   "execution_count": 18,
   "metadata": {},
   "outputs": [
    {
     "data": {
      "text/plain": [
       "<matplotlib.axes._subplots.AxesSubplot at 0x7f6d71638190>"
      ]
     },
     "execution_count": 18,
     "metadata": {},
     "output_type": "execute_result"
    },
    {
     "data": {
      "image/png": "[encoded data removed]",
      "text/plain": [
       "<Figure size 432x288 with 1 Axes>"
      ]
     },
     "metadata": {
      "needs_background": "light"
     },
     "output_type": "display_data"
    }
   ],
   "source": [
    "p_quiz_aluno['densidade'].value_counts().plot(kind='bar')"
   ]
  },
  {
   "cell_type": "code",
   "execution_count": 19,
   "metadata": {},
   "outputs": [
    {
     "data": {
      "text/plain": [
       "<matplotlib.axes._subplots.AxesSubplot at 0x7f6d7160ffa0>"
      ]
     },
     "execution_count": 19,
     "metadata": {},
     "output_type": "execute_result"
    },
    {
     "data": {
      "image/png": "[encoded data removed]",
      "text/plain": [
       "<Figure size 432x288 with 1 Axes>"
      ]
     },
     "metadata": {
      "needs_background": "light"
     },
     "output_type": "display_data"
    }
   ],
   "source": [
    "s_quiz_aluno['densidade'].value_counts().plot(kind='bar')"
   ]
  },
  {
   "cell_type": "code",
   "execution_count": 20,
   "metadata": {},
   "outputs": [
    {
     "data": {
      "text/plain": [
       "<matplotlib.axes._subplots.AxesSubplot at 0x7f6d715e21c0>"
      ]
     },
     "execution_count": 20,
     "metadata": {},
     "output_type": "execute_result"
    },
    {
     "data": {
      "image/png": "[encoded data removed]",
      "text/plain": [
       "<Figure size 432x288 with 1 Axes>"
      ]
     },
     "metadata": {
      "needs_background": "light"
     },
     "output_type": "display_data"
    }
   ],
   "source": [
    "c_quiz_aluno['densidade'].value_counts().plot(kind='bar')"
   ]
  },
  {
   "cell_type": "markdown",
   "metadata": {},
   "source": [
    "### Dificuldade"
   ]
  },
  {
   "cell_type": "code",
   "execution_count": 21,
   "metadata": {},
   "outputs": [
    {
     "data": {
      "text/plain": [
       "<matplotlib.axes._subplots.AxesSubplot at 0x7f6d715333d0>"
      ]
     },
     "execution_count": 21,
     "metadata": {},
     "output_type": "execute_result"
    },
    {
     "data": {
      "image/png": "[encoded data removed]",
      "text/plain": [
       "<Figure size 432x288 with 1 Axes>"
      ]
     },
     "metadata": {
      "needs_background": "light"
     },
     "output_type": "display_data"
    }
   ],
   "source": [
    "p_quiz_aluno['dificuldade'].value_counts().plot(kind='bar')"
   ]
  },
  {
   "cell_type": "code",
   "execution_count": 22,
   "metadata": {},
   "outputs": [
    {
     "data": {
      "text/plain": [
       "<matplotlib.axes._subplots.AxesSubplot at 0x7f6d714a76d0>"
      ]
     },
     "execution_count": 22,
     "metadata": {},
     "output_type": "execute_result"
    },
    {
     "data": {
      "image/png": "[encoded data removed]",
      "text/plain": [
       "<Figure size 432x288 with 1 Axes>"
      ]
     },
     "metadata": {
      "needs_background": "light"
     },
     "output_type": "display_data"
    }
   ],
   "source": [
    "s_quiz_aluno['dificuldade'].value_counts().plot(kind='bar')"
   ]
  },
  {
   "cell_type": "code",
   "execution_count": 23,
   "metadata": {
    "scrolled": true
   },
   "outputs": [
    {
     "data": {
      "text/plain": [
       "<matplotlib.axes._subplots.AxesSubplot at 0x7f6d7147aaf0>"
      ]
     },
     "execution_count": 23,
     "metadata": {},
     "output_type": "execute_result"
    },
    {
     "data": {
      "image/png": "[encoded data removed]",
      "text/plain": [
       "<Figure size 432x288 with 1 Axes>"
      ]
     },
     "metadata": {
      "needs_background": "light"
     },
     "output_type": "display_data"
    }
   ],
   "source": [
    "c_quiz_aluno['dificuldade'].value_counts().plot(kind='bar')"
   ]
  },
  {
   "cell_type": "markdown",
   "metadata": {},
   "source": [
    "## Atribuindo valores numéricos as variáveis categóricas"
   ]
  },
  {
   "cell_type": "code",
   "execution_count": 24,
   "metadata": {},
   "outputs": [],
   "source": [
    "dicionario = {'interatividade': {'Expositivo': 0, 'Misto': 1},\n",
    "             'densidade': {'Muito baixo': 0, 'Baixo': 1, 'Médio': 2, 'Alto': 3,  'Muito alto': 4},\n",
    "               'dificuldade': {'Muito fácil': 0, 'Fácil': 1, 'Médio': 2, 'Difícil': 3}}\n",
    "def converte_col_numeros(questionarios):\n",
    "    for questionario in questionarios:\n",
    "        questionario.replace(dicionario, inplace=True)\n",
    "        \n",
    "converte_col_numeros(questionarios)"
   ]
  },
  {
   "cell_type": "markdown",
   "metadata": {},
   "source": [
    "## Checando por NaN"
   ]
  },
  {
   "cell_type": "code",
   "execution_count": 25,
   "metadata": {},
   "outputs": [
    {
     "name": "stdout",
     "output_type": "stream",
     "text": [
      "<class 'pandas.core.frame.DataFrame'>\n",
      "RangeIndex: 39 entries, 0 to 38\n",
      "Data columns (total 18 columns):\n",
      " #   Column          Non-Null Count  Dtype  \n",
      "---  ------          --------------  -----  \n",
      " 0   url             39 non-null     object \n",
      " 1   interatividade  39 non-null     int64  \n",
      " 2   recurso         39 non-null     object \n",
      " 3   densidade       39 non-null     int64  \n",
      " 4   dificuldade     39 non-null     int64  \n",
      " 5   visualizacoes   39 non-null     int64  \n",
      " 6   curtidas        39 non-null     int64  \n",
      " 7   descurtidas     39 non-null     int64  \n",
      " 8   favorito        39 non-null     int64  \n",
      " 9   comentarios     39 non-null     int64  \n",
      " 10  duracao         39 non-null     int64  \n",
      " 11  data            39 non-null     object \n",
      " 12  wordsnotrep     34 non-null     float64\n",
      " 13  totalwords      34 non-null     float64\n",
      " 14  ratio           39 non-null     object \n",
      " 15  nounsnotrep     34 non-null     float64\n",
      " 16  nounstotal      34 non-null     float64\n",
      " 17  ratio2          39 non-null     object \n",
      "dtypes: float64(4), int64(9), object(5)\n",
      "memory usage: 5.6+ KB\n",
      "None\n",
      "<class 'pandas.core.frame.DataFrame'>\n",
      "RangeIndex: 39 entries, 0 to 38\n",
      "Data columns (total 18 columns):\n",
      " #   Column          Non-Null Count  Dtype  \n",
      "---  ------          --------------  -----  \n",
      " 0   url             39 non-null     object \n",
      " 1   interatividade  39 non-null     int64  \n",
      " 2   recurso         39 non-null     object \n",
      " 3   densidade       39 non-null     int64  \n",
      " 4   dificuldade     39 non-null     int64  \n",
      " 5   visualizacoes   39 non-null     int64  \n",
      " 6   curtidas        39 non-null     int64  \n",
      " 7   descurtidas     39 non-null     int64  \n",
      " 8   favorito        39 non-null     int64  \n",
      " 9   comentarios     39 non-null     int64  \n",
      " 10  duracao         39 non-null     int64  \n",
      " 11  data            39 non-null     object \n",
      " 12  wordsnotrep     34 non-null     float64\n",
      " 13  totalwords      34 non-null     float64\n",
      " 14  ratio           39 non-null     object \n",
      " 15  nounsnotrep     34 non-null     float64\n",
      " 16  nounstotal      34 non-null     float64\n",
      " 17  ratio2          39 non-null     object \n",
      "dtypes: float64(4), int64(9), object(5)\n",
      "memory usage: 5.6+ KB\n",
      "None\n",
      "<class 'pandas.core.frame.DataFrame'>\n",
      "RangeIndex: 27 entries, 0 to 26\n",
      "Data columns (total 18 columns):\n",
      " #   Column          Non-Null Count  Dtype \n",
      "---  ------          --------------  ----- \n",
      " 0   url             27 non-null     object\n",
      " 1   interatividade  27 non-null     int64 \n",
      " 2   recurso         27 non-null     object\n",
      " 3   densidade       27 non-null     int64 \n",
      " 4   dificuldade     27 non-null     int64 \n",
      " 5   visualizacoes   27 non-null     int64 \n",
      " 6   curtidas        27 non-null     int64 \n",
      " 7   descurtidas     27 non-null     int64 \n",
      " 8   favorito        27 non-null     int64 \n",
      " 9   comentarios     27 non-null     int64 \n",
      " 10  duracao         27 non-null     int64 \n",
      " 11  data            27 non-null     object\n",
      " 12  wordsnotrep     27 non-null     int64 \n",
      " 13  totalwords      27 non-null     int64 \n",
      " 14  ratio           27 non-null     object\n",
      " 15  nounsnotrep     27 non-null     int64 \n",
      " 16  nounstotal      27 non-null     int64 \n",
      " 17  ratio2          27 non-null     object\n",
      "dtypes: int64(13), object(5)\n",
      "memory usage: 3.9+ KB\n",
      "None\n",
      "<class 'pandas.core.frame.DataFrame'>\n",
      "RangeIndex: 27 entries, 0 to 26\n",
      "Data columns (total 18 columns):\n",
      " #   Column          Non-Null Count  Dtype \n",
      "---  ------          --------------  ----- \n",
      " 0   url             27 non-null     object\n",
      " 1   interatividade  27 non-null     int64 \n",
      " 2   recurso         27 non-null     object\n",
      " 3   densidade       27 non-null     int64 \n",
      " 4   dificuldade     27 non-null     int64 \n",
      " 5   visualizacoes   27 non-null     int64 \n",
      " 6   curtidas        27 non-null     int64 \n",
      " 7   descurtidas     27 non-null     int64 \n",
      " 8   favorito        27 non-null     int64 \n",
      " 9   comentarios     27 non-null     int64 \n",
      " 10  duracao         27 non-null     int64 \n",
      " 11  data            27 non-null     object\n",
      " 12  wordsnotrep     27 non-null     int64 \n",
      " 13  totalwords      27 non-null     int64 \n",
      " 14  ratio           27 non-null     object\n",
      " 15  nounsnotrep     27 non-null     int64 \n",
      " 16  nounstotal      27 non-null     int64 \n",
      " 17  ratio2          27 non-null     object\n",
      "dtypes: int64(13), object(5)\n",
      "memory usage: 3.9+ KB\n",
      "None\n",
      "<class 'pandas.core.frame.DataFrame'>\n",
      "RangeIndex: 66 entries, 0 to 65\n",
      "Data columns (total 18 columns):\n",
      " #   Column          Non-Null Count  Dtype  \n",
      "---  ------          --------------  -----  \n",
      " 0   url             66 non-null     object \n",
      " 1   interatividade  66 non-null     int64  \n",
      " 2   recurso         66 non-null     object \n",
      " 3   densidade       66 non-null     int64  \n",
      " 4   dificuldade     66 non-null     int64  \n",
      " 5   visualizacoes   66 non-null     int64  \n",
      " 6   curtidas        66 non-null     int64  \n",
      " 7   descurtidas     66 non-null     int64  \n",
      " 8   favorito        66 non-null     int64  \n",
      " 9   comentarios     66 non-null     int64  \n",
      " 10  duracao         66 non-null     int64  \n",
      " 11  data            66 non-null     object \n",
      " 12  wordsnotrep     61 non-null     float64\n",
      " 13  totalwords      61 non-null     float64\n",
      " 14  ratio           66 non-null     object \n",
      " 15  nounsnotrep     61 non-null     float64\n",
      " 16  nounstotal      61 non-null     float64\n",
      " 17  ratio2          66 non-null     object \n",
      "dtypes: float64(4), int64(9), object(5)\n",
      "memory usage: 9.4+ KB\n",
      "None\n",
      "<class 'pandas.core.frame.DataFrame'>\n",
      "RangeIndex: 66 entries, 0 to 65\n",
      "Data columns (total 18 columns):\n",
      " #   Column          Non-Null Count  Dtype  \n",
      "---  ------          --------------  -----  \n",
      " 0   url             66 non-null     object \n",
      " 1   interatividade  66 non-null     int64  \n",
      " 2   recurso         66 non-null     object \n",
      " 3   densidade       66 non-null     int64  \n",
      " 4   dificuldade     66 non-null     int64  \n",
      " 5   visualizacoes   66 non-null     int64  \n",
      " 6   curtidas        66 non-null     int64  \n",
      " 7   descurtidas     66 non-null     int64  \n",
      " 8   favorito        66 non-null     int64  \n",
      " 9   comentarios     66 non-null     int64  \n",
      " 10  duracao         66 non-null     int64  \n",
      " 11  data            66 non-null     object \n",
      " 12  wordsnotrep     61 non-null     float64\n",
      " 13  totalwords      61 non-null     float64\n",
      " 14  ratio           66 non-null     object \n",
      " 15  nounsnotrep     61 non-null     float64\n",
      " 16  nounstotal      61 non-null     float64\n",
      " 17  ratio2          66 non-null     object \n",
      "dtypes: float64(4), int64(9), object(5)\n",
      "memory usage: 9.4+ KB\n",
      "None\n"
     ]
    }
   ],
   "source": [
    "def checa(questionarios):\n",
    "    for questionario in questionarios:\n",
    "        print(questionario.info())\n",
    "checa(questionarios)"
   ]
  },
  {
   "cell_type": "markdown",
   "metadata": {},
   "source": [
    "### Removendo as linhas contendo NaN"
   ]
  },
  {
   "cell_type": "code",
   "execution_count": 26,
   "metadata": {},
   "outputs": [],
   "source": [
    "p_quiz_prof.dropna(axis=0, inplace=True)\n",
    "p_quiz_aluno.dropna(axis=0, inplace=True)\n",
    "c_quiz_prof.dropna(axis=0, inplace=True)\n",
    "c_quiz_aluno.dropna(axis=0, inplace=True)"
   ]
  },
  {
   "cell_type": "code",
   "execution_count": 27,
   "metadata": {},
   "outputs": [
    {
     "name": "stdout",
     "output_type": "stream",
     "text": [
      "<class 'pandas.core.frame.DataFrame'>\n",
      "Int64Index: 34 entries, 0 to 38\n",
      "Data columns (total 18 columns):\n",
      " #   Column          Non-Null Count  Dtype  \n",
      "---  ------          --------------  -----  \n",
      " 0   url             34 non-null     object \n",
      " 1   interatividade  34 non-null     int64  \n",
      " 2   recurso         34 non-null     object \n",
      " 3   densidade       34 non-null     int64  \n",
      " 4   dificuldade     34 non-null     int64  \n",
      " 5   visualizacoes   34 non-null     int64  \n",
      " 6   curtidas        34 non-null     int64  \n",
      " 7   descurtidas     34 non-null     int64  \n",
      " 8   favorito        34 non-null     int64  \n",
      " 9   comentarios     34 non-null     int64  \n",
      " 10  duracao         34 non-null     int64  \n",
      " 11  data            34 non-null     object \n",
      " 12  wordsnotrep     34 non-null     float64\n",
      " 13  totalwords      34 non-null     float64\n",
      " 14  ratio           34 non-null     object \n",
      " 15  nounsnotrep     34 non-null     float64\n",
      " 16  nounstotal      34 non-null     float64\n",
      " 17  ratio2          34 non-null     object \n",
      "dtypes: float64(4), int64(9), object(5)\n",
      "memory usage: 5.0+ KB\n",
      "None\n",
      "<class 'pandas.core.frame.DataFrame'>\n",
      "Int64Index: 34 entries, 0 to 38\n",
      "Data columns (total 18 columns):\n",
      " #   Column          Non-Null Count  Dtype  \n",
      "---  ------          --------------  -----  \n",
      " 0   url             34 non-null     object \n",
      " 1   interatividade  34 non-null     int64  \n",
      " 2   recurso         34 non-null     object \n",
      " 3   densidade       34 non-null     int64  \n",
      " 4   dificuldade     34 non-null     int64  \n",
      " 5   visualizacoes   34 non-null     int64  \n",
      " 6   curtidas        34 non-null     int64  \n",
      " 7   descurtidas     34 non-null     int64  \n",
      " 8   favorito        34 non-null     int64  \n",
      " 9   comentarios     34 non-null     int64  \n",
      " 10  duracao         34 non-null     int64  \n",
      " 11  data            34 non-null     object \n",
      " 12  wordsnotrep     34 non-null     float64\n",
      " 13  totalwords      34 non-null     float64\n",
      " 14  ratio           34 non-null     object \n",
      " 15  nounsnotrep     34 non-null     float64\n",
      " 16  nounstotal      34 non-null     float64\n",
      " 17  ratio2          34 non-null     object \n",
      "dtypes: float64(4), int64(9), object(5)\n",
      "memory usage: 5.0+ KB\n",
      "None\n",
      "<class 'pandas.core.frame.DataFrame'>\n",
      "RangeIndex: 27 entries, 0 to 26\n",
      "Data columns (total 18 columns):\n",
      " #   Column          Non-Null Count  Dtype \n",
      "---  ------          --------------  ----- \n",
      " 0   url             27 non-null     object\n",
      " 1   interatividade  27 non-null     int64 \n",
      " 2   recurso         27 non-null     object\n",
      " 3   densidade       27 non-null     int64 \n",
      " 4   dificuldade     27 non-null     int64 \n",
      " 5   visualizacoes   27 non-null     int64 \n",
      " 6   curtidas        27 non-null     int64 \n",
      " 7   descurtidas     27 non-null     int64 \n",
      " 8   favorito        27 non-null     int64 \n",
      " 9   comentarios     27 non-null     int64 \n",
      " 10  duracao         27 non-null     int64 \n",
      " 11  data            27 non-null     object\n",
      " 12  wordsnotrep     27 non-null     int64 \n",
      " 13  totalwords      27 non-null     int64 \n",
      " 14  ratio           27 non-null     object\n",
      " 15  nounsnotrep     27 non-null     int64 \n",
      " 16  nounstotal      27 non-null     int64 \n",
      " 17  ratio2          27 non-null     object\n",
      "dtypes: int64(13), object(5)\n",
      "memory usage: 3.9+ KB\n",
      "None\n",
      "<class 'pandas.core.frame.DataFrame'>\n",
      "RangeIndex: 27 entries, 0 to 26\n",
      "Data columns (total 18 columns):\n",
      " #   Column          Non-Null Count  Dtype \n",
      "---  ------          --------------  ----- \n",
      " 0   url             27 non-null     object\n",
      " 1   interatividade  27 non-null     int64 \n",
      " 2   recurso         27 non-null     object\n",
      " 3   densidade       27 non-null     int64 \n",
      " 4   dificuldade     27 non-null     int64 \n",
      " 5   visualizacoes   27 non-null     int64 \n",
      " 6   curtidas        27 non-null     int64 \n",
      " 7   descurtidas     27 non-null     int64 \n",
      " 8   favorito        27 non-null     int64 \n",
      " 9   comentarios     27 non-null     int64 \n",
      " 10  duracao         27 non-null     int64 \n",
      " 11  data            27 non-null     object\n",
      " 12  wordsnotrep     27 non-null     int64 \n",
      " 13  totalwords      27 non-null     int64 \n",
      " 14  ratio           27 non-null     object\n",
      " 15  nounsnotrep     27 non-null     int64 \n",
      " 16  nounstotal      27 non-null     int64 \n",
      " 17  ratio2          27 non-null     object\n",
      "dtypes: int64(13), object(5)\n",
      "memory usage: 3.9+ KB\n",
      "None\n",
      "<class 'pandas.core.frame.DataFrame'>\n",
      "Int64Index: 61 entries, 0 to 65\n",
      "Data columns (total 18 columns):\n",
      " #   Column          Non-Null Count  Dtype  \n",
      "---  ------          --------------  -----  \n",
      " 0   url             61 non-null     object \n",
      " 1   interatividade  61 non-null     int64  \n",
      " 2   recurso         61 non-null     object \n",
      " 3   densidade       61 non-null     int64  \n",
      " 4   dificuldade     61 non-null     int64  \n",
      " 5   visualizacoes   61 non-null     int64  \n",
      " 6   curtidas        61 non-null     int64  \n",
      " 7   descurtidas     61 non-null     int64  \n",
      " 8   favorito        61 non-null     int64  \n",
      " 9   comentarios     61 non-null     int64  \n",
      " 10  duracao         61 non-null     int64  \n",
      " 11  data            61 non-null     object \n",
      " 12  wordsnotrep     61 non-null     float64\n",
      " 13  totalwords      61 non-null     float64\n",
      " 14  ratio           61 non-null     object \n",
      " 15  nounsnotrep     61 non-null     float64\n",
      " 16  nounstotal      61 non-null     float64\n",
      " 17  ratio2          61 non-null     object \n",
      "dtypes: float64(4), int64(9), object(5)\n",
      "memory usage: 9.1+ KB\n",
      "None\n",
      "<class 'pandas.core.frame.DataFrame'>\n",
      "Int64Index: 61 entries, 0 to 65\n",
      "Data columns (total 18 columns):\n",
      " #   Column          Non-Null Count  Dtype  \n",
      "---  ------          --------------  -----  \n",
      " 0   url             61 non-null     object \n",
      " 1   interatividade  61 non-null     int64  \n",
      " 2   recurso         61 non-null     object \n",
      " 3   densidade       61 non-null     int64  \n",
      " 4   dificuldade     61 non-null     int64  \n",
      " 5   visualizacoes   61 non-null     int64  \n",
      " 6   curtidas        61 non-null     int64  \n",
      " 7   descurtidas     61 non-null     int64  \n",
      " 8   favorito        61 non-null     int64  \n",
      " 9   comentarios     61 non-null     int64  \n",
      " 10  duracao         61 non-null     int64  \n",
      " 11  data            61 non-null     object \n",
      " 12  wordsnotrep     61 non-null     float64\n",
      " 13  totalwords      61 non-null     float64\n",
      " 14  ratio           61 non-null     object \n",
      " 15  nounsnotrep     61 non-null     float64\n",
      " 16  nounstotal      61 non-null     float64\n",
      " 17  ratio2          61 non-null     object \n",
      "dtypes: float64(4), int64(9), object(5)\n",
      "memory usage: 9.1+ KB\n",
      "None\n"
     ]
    }
   ],
   "source": [
    "checa(questionarios)"
   ]
  },
  {
   "cell_type": "markdown",
   "metadata": {},
   "source": [
    "### Convertendo a data"
   ]
  },
  {
   "cell_type": "code",
   "execution_count": 28,
   "metadata": {},
   "outputs": [],
   "source": [
    "d1 = date(2020, 7, 2)\n",
    "\n",
    "def date_to_days(data):\n",
    "    data_nova = datetime.date(datetime.strptime(data, '%Y-%m-%d'))\n",
    "    delta = d1 - data_nova\n",
    "    return delta.days"
   ]
  },
  {
   "cell_type": "code",
   "execution_count": 29,
   "metadata": {},
   "outputs": [
    {
     "name": "stderr",
     "output_type": "stream",
     "text": [
      "/usr/local/lib/python3.8/dist-packages/pandas/core/indexing.py:671: SettingWithCopyWarning: \n",
      "A value is trying to be set on a copy of a slice from a DataFrame\n",
      "\n",
      "See the caveats in the documentation: https://pandas.pydata.org/pandas-docs/stable/user_guide/indexing.html#returning-a-view-versus-a-copy\n",
      "  self._setitem_with_indexer(indexer, value)\n"
     ]
    }
   ],
   "source": [
    "def converte(questionarios):\n",
    "    for questionario in questionarios:\n",
    "        for idx, row in enumerate(questionario['data']):\n",
    "            questionario['data'].iloc[idx] = date_to_days(row)\n",
    "        questionario['data'] = questionario['data'].astype('int64')\n",
    "            \n",
    "converte(questionarios)"
   ]
  },
  {
   "cell_type": "code",
   "execution_count": 30,
   "metadata": {},
   "outputs": [
    {
     "data": {
      "text/html": [
       "<div>\n",
       "<style scoped>\n",
       "    .dataframe tbody tr th:only-of-type {\n",
       "        vertical-align: middle;\n",
       "    }\n",
       "\n",
       "    .dataframe tbody tr th {\n",
       "        vertical-align: top;\n",
       "    }\n",
       "\n",
       "    .dataframe thead th {\n",
       "        text-align: right;\n",
       "    }\n",
       "</style>\n",
       "<table border=\"1\" class=\"dataframe\">\n",
       "  <thead>\n",
       "    <tr style=\"text-align: right;\">\n",
       "      <th></th>\n",
       "      <th>url</th>\n",
       "      <th>interatividade</th>\n",
       "      <th>recurso</th>\n",
       "      <th>densidade</th>\n",
       "      <th>dificuldade</th>\n",
       "      <th>visualizacoes</th>\n",
       "      <th>curtidas</th>\n",
       "      <th>descurtidas</th>\n",
       "      <th>favorito</th>\n",
       "      <th>comentarios</th>\n",
       "      <th>duracao</th>\n",
       "      <th>data</th>\n",
       "      <th>wordsnotrep</th>\n",
       "      <th>totalwords</th>\n",
       "      <th>ratio</th>\n",
       "      <th>nounsnotrep</th>\n",
       "      <th>nounstotal</th>\n",
       "      <th>ratio2</th>\n",
       "    </tr>\n",
       "  </thead>\n",
       "  <tbody>\n",
       "    <tr>\n",
       "      <th>0</th>\n",
       "      <td>https://www.youtube.com/watch?v=iFYWrDMfVNo</td>\n",
       "      <td>0</td>\n",
       "      <td>Apresentação, Demonstração, Exemplo, Introdução</td>\n",
       "      <td>0</td>\n",
       "      <td>1</td>\n",
       "      <td>12172</td>\n",
       "      <td>417</td>\n",
       "      <td>8</td>\n",
       "      <td>0</td>\n",
       "      <td>53</td>\n",
       "      <td>441</td>\n",
       "      <td>1718</td>\n",
       "      <td>299.0</td>\n",
       "      <td>641.0</td>\n",
       "      <td>0,46646</td>\n",
       "      <td>114.0</td>\n",
       "      <td>147.0</td>\n",
       "      <td>0,7755</td>\n",
       "    </tr>\n",
       "    <tr>\n",
       "      <th>1</th>\n",
       "      <td>https://www.youtube.com/watch?v=YUeiAhpPMjQ</td>\n",
       "      <td>1</td>\n",
       "      <td>Apresentação, Demonstração, Exemplo</td>\n",
       "      <td>4</td>\n",
       "      <td>3</td>\n",
       "      <td>361</td>\n",
       "      <td>45</td>\n",
       "      <td>0</td>\n",
       "      <td>0</td>\n",
       "      <td>3</td>\n",
       "      <td>1118</td>\n",
       "      <td>388</td>\n",
       "      <td>493.0</td>\n",
       "      <td>1576.0</td>\n",
       "      <td>0,31282</td>\n",
       "      <td>233.0</td>\n",
       "      <td>483.0</td>\n",
       "      <td>0,4824</td>\n",
       "    </tr>\n",
       "  </tbody>\n",
       "</table>\n",
       "</div>"
      ],
      "text/plain": [
       "                                           url  interatividade  \\\n",
       "0  https://www.youtube.com/watch?v=iFYWrDMfVNo               0   \n",
       "1  https://www.youtube.com/watch?v=YUeiAhpPMjQ               1   \n",
       "\n",
       "                                           recurso  densidade  dificuldade  \\\n",
       "0  Apresentação, Demonstração, Exemplo, Introdução          0            1   \n",
       "1              Apresentação, Demonstração, Exemplo          4            3   \n",
       "\n",
       "   visualizacoes  curtidas  descurtidas  favorito  comentarios  duracao  data  \\\n",
       "0          12172       417            8         0           53      441  1718   \n",
       "1            361        45            0         0            3     1118   388   \n",
       "\n",
       "   wordsnotrep  totalwords    ratio  nounsnotrep  nounstotal  ratio2  \n",
       "0        299.0       641.0  0,46646        114.0       147.0  0,7755  \n",
       "1        493.0      1576.0  0,31282        233.0       483.0  0,4824  "
      ]
     },
     "execution_count": 30,
     "metadata": {},
     "output_type": "execute_result"
    }
   ],
   "source": [
    "p_quiz_prof.head(2)"
   ]
  },
  {
   "cell_type": "code",
   "execution_count": 31,
   "metadata": {},
   "outputs": [
    {
     "data": {
      "text/html": [
       "<div>\n",
       "<style scoped>\n",
       "    .dataframe tbody tr th:only-of-type {\n",
       "        vertical-align: middle;\n",
       "    }\n",
       "\n",
       "    .dataframe tbody tr th {\n",
       "        vertical-align: top;\n",
       "    }\n",
       "\n",
       "    .dataframe thead th {\n",
       "        text-align: right;\n",
       "    }\n",
       "</style>\n",
       "<table border=\"1\" class=\"dataframe\">\n",
       "  <thead>\n",
       "    <tr style=\"text-align: right;\">\n",
       "      <th></th>\n",
       "      <th>url</th>\n",
       "      <th>interatividade</th>\n",
       "      <th>recurso</th>\n",
       "      <th>densidade</th>\n",
       "      <th>dificuldade</th>\n",
       "      <th>visualizacoes</th>\n",
       "      <th>curtidas</th>\n",
       "      <th>descurtidas</th>\n",
       "      <th>favorito</th>\n",
       "      <th>comentarios</th>\n",
       "      <th>duracao</th>\n",
       "      <th>data</th>\n",
       "      <th>wordsnotrep</th>\n",
       "      <th>totalwords</th>\n",
       "      <th>ratio</th>\n",
       "      <th>nounsnotrep</th>\n",
       "      <th>nounstotal</th>\n",
       "      <th>ratio2</th>\n",
       "    </tr>\n",
       "  </thead>\n",
       "  <tbody>\n",
       "    <tr>\n",
       "      <th>0</th>\n",
       "      <td>https://www.youtube.com/watch?v=-t_c6F_Uoeg</td>\n",
       "      <td>0</td>\n",
       "      <td>Definição, Demonstração, Exemplo, Slide</td>\n",
       "      <td>3</td>\n",
       "      <td>2</td>\n",
       "      <td>33621</td>\n",
       "      <td>1276</td>\n",
       "      <td>2</td>\n",
       "      <td>0</td>\n",
       "      <td>0</td>\n",
       "      <td>451</td>\n",
       "      <td>1863</td>\n",
       "      <td>290</td>\n",
       "      <td>710</td>\n",
       "      <td>0,4085</td>\n",
       "      <td>123</td>\n",
       "      <td>280</td>\n",
       "      <td>0,4393</td>\n",
       "    </tr>\n",
       "    <tr>\n",
       "      <th>1</th>\n",
       "      <td>https://www.youtube.com/watch?v=1V7tRE0wFZQ</td>\n",
       "      <td>0</td>\n",
       "      <td>Apresentação, Exemplo, Palestra, Slide, Texto</td>\n",
       "      <td>2</td>\n",
       "      <td>3</td>\n",
       "      <td>2192</td>\n",
       "      <td>14</td>\n",
       "      <td>0</td>\n",
       "      <td>0</td>\n",
       "      <td>2</td>\n",
       "      <td>477</td>\n",
       "      <td>582</td>\n",
       "      <td>261</td>\n",
       "      <td>603</td>\n",
       "      <td>0,4328</td>\n",
       "      <td>98</td>\n",
       "      <td>180</td>\n",
       "      <td>0,5444</td>\n",
       "    </tr>\n",
       "  </tbody>\n",
       "</table>\n",
       "</div>"
      ],
      "text/plain": [
       "                                           url  interatividade  \\\n",
       "0  https://www.youtube.com/watch?v=-t_c6F_Uoeg               0   \n",
       "1  https://www.youtube.com/watch?v=1V7tRE0wFZQ               0   \n",
       "\n",
       "                                         recurso  densidade  dificuldade  \\\n",
       "0        Definição, Demonstração, Exemplo, Slide          3            2   \n",
       "1  Apresentação, Exemplo, Palestra, Slide, Texto          2            3   \n",
       "\n",
       "   visualizacoes  curtidas  descurtidas  favorito  comentarios  duracao  data  \\\n",
       "0          33621      1276            2         0            0      451  1863   \n",
       "1           2192        14            0         0            2      477   582   \n",
       "\n",
       "   wordsnotrep  totalwords   ratio  nounsnotrep  nounstotal  ratio2  \n",
       "0          290         710  0,4085          123         280  0,4393  \n",
       "1          261         603  0,4328           98         180  0,5444  "
      ]
     },
     "execution_count": 31,
     "metadata": {},
     "output_type": "execute_result"
    }
   ],
   "source": [
    "s_quiz_prof.head(2)"
   ]
  },
  {
   "cell_type": "markdown",
   "metadata": {},
   "source": [
    "## Normalizando os dados em relação à data"
   ]
  },
  {
   "cell_type": "code",
   "execution_count": 32,
   "metadata": {},
   "outputs": [],
   "source": [
    "def normaliza(questionarios, *args):\n",
    "    for questionario in questionarios:\n",
    "        for col in args:\n",
    "            questionario[col] = questionario[col] / questionario['data']\n",
    "            questionario[col] = pd.to_numeric(questionario[col])\n",
    "normaliza(questionarios, 'visualizacoes', 'curtidas', 'descurtidas', 'comentarios')"
   ]
  },
  {
   "cell_type": "markdown",
   "metadata": {},
   "source": [
    "## Convertendo os ratios para float"
   ]
  },
  {
   "cell_type": "code",
   "execution_count": 33,
   "metadata": {},
   "outputs": [],
   "source": [
    "def ratios_to_float(questionarios):\n",
    "    for questionario in questionarios:\n",
    "        questionario['ratio'] = questionario['wordsnotrep'] / questionario['totalwords']\n",
    "        questionario['ratio2'] = questionario['nounsnotrep'] / questionario['nounstotal']\n",
    "ratios_to_float(questionarios)"
   ]
  },
  {
   "cell_type": "markdown",
   "metadata": {},
   "source": [
    "## Removendo as colunas da quantidade de palavras e favorito (inteiramente 0)"
   ]
  },
  {
   "cell_type": "code",
   "execution_count": 34,
   "metadata": {},
   "outputs": [],
   "source": [
    "c_quiz_prof.drop(['interatividade', 'favorito', 'wordsnotrep', 'totalwords', 'nounsnotrep', 'nounstotal'], axis=1, inplace=True)\n",
    "c_quiz_aluno.drop(['interatividade', 'favorito', 'wordsnotrep', 'totalwords', 'nounsnotrep', 'nounstotal'], axis=1, inplace=True)"
   ]
  },
  {
   "cell_type": "markdown",
   "metadata": {},
   "source": [
    "# Verificando as correlações:  Professores"
   ]
  },
  {
   "cell_type": "code",
   "execution_count": 35,
   "metadata": {},
   "outputs": [],
   "source": [
    "def corr(questionario, colunas, coluna):\n",
    "    formato = '{:34} {:10}     p-value {:10}'\n",
    "    for i in range(len(colunas)):\n",
    "        string = colunas[i] + ' e ' + coluna + ':'\n",
    "        ans = scipy.stats.pearsonr(questionario[colunas[i]], questionario[coluna]) \n",
    "        print(formato.format(string, ans[0], ans[1]))"
   ]
  },
  {
   "cell_type": "code",
   "execution_count": 36,
   "metadata": {},
   "outputs": [
    {
     "name": "stdout",
     "output_type": "stream",
     "text": [
      "<class 'pandas.core.frame.DataFrame'>\n",
      "Int64Index: 61 entries, 0 to 65\n",
      "Data columns (total 12 columns):\n",
      " #   Column         Non-Null Count  Dtype  \n",
      "---  ------         --------------  -----  \n",
      " 0   url            61 non-null     object \n",
      " 1   recurso        61 non-null     object \n",
      " 2   densidade      61 non-null     int64  \n",
      " 3   dificuldade    61 non-null     int64  \n",
      " 4   visualizacoes  61 non-null     float64\n",
      " 5   curtidas       61 non-null     float64\n",
      " 6   descurtidas    61 non-null     float64\n",
      " 7   comentarios    61 non-null     float64\n",
      " 8   duracao        61 non-null     int64  \n",
      " 9   data           61 non-null     int64  \n",
      " 10  ratio          61 non-null     float64\n",
      " 11  ratio2         61 non-null     float64\n",
      "dtypes: float64(6), int64(4), object(2)\n",
      "memory usage: 6.2+ KB\n"
     ]
    }
   ],
   "source": [
    "c_quiz_prof.info()"
   ]
  },
  {
   "cell_type": "markdown",
   "metadata": {},
   "source": [
    "### Todas as colunas x densidade"
   ]
  },
  {
   "cell_type": "markdown",
   "metadata": {},
   "source": [
    "#### Primeiro questionário"
   ]
  },
  {
   "cell_type": "code",
   "execution_count": 37,
   "metadata": {},
   "outputs": [
    {
     "name": "stdout",
     "output_type": "stream",
     "text": [
      "dificuldade e densidade:           0.39918434594133223     p-value 0.019349621709694998\n",
      "curtidas e densidade:              -0.1728013663335626     p-value 0.3284276614060615\n",
      "descurtidas e densidade:           -0.23483239892139546     p-value 0.18126761386213416\n",
      "visualizacoes e densidade:         -0.3173225313334638     p-value 0.06744917610374244\n",
      "comentarios e densidade:           -0.0421701832204171     p-value 0.8128118930603557\n",
      "duracao e densidade:               0.5310342710621438     p-value 0.0012323095010486748\n",
      "data e densidade:                  -0.2875461391607914     p-value 0.09914997021045009\n",
      "ratio e densidade:                 -0.3950784317450404     p-value 0.02075074864210952\n",
      "ratio2 e densidade:                -0.31652770878769754     p-value 0.06817667880324971\n"
     ]
    }
   ],
   "source": [
    "corr(p_quiz_prof, ['dificuldade', 'curtidas', 'descurtidas', 'visualizacoes', 'comentarios', 'duracao', 'data', 'ratio', 'ratio2'], 'densidade')"
   ]
  },
  {
   "cell_type": "markdown",
   "metadata": {},
   "source": [
    "#### Segundo questionário"
   ]
  },
  {
   "cell_type": "code",
   "execution_count": 38,
   "metadata": {},
   "outputs": [
    {
     "name": "stdout",
     "output_type": "stream",
     "text": [
      "dificuldade e densidade:           0.5650951518027669     p-value 0.0021313826346960655\n",
      "curtidas e densidade:              -0.07212372089209092     p-value 0.7207186185157726\n",
      "descurtidas e densidade:           -0.09022427520304159     p-value 0.6544780554041434\n",
      "visualizacoes e densidade:         -0.06870547775613488     p-value 0.7334695528960936\n",
      "comentarios e densidade:           -0.054307867411579266     p-value 0.7879008964834167\n",
      "duracao e densidade:               -0.03718203897772676     p-value 0.8539156081789986\n",
      "data e densidade:                  0.13773562328537392     p-value 0.493277014455753\n",
      "ratio e densidade:                 0.040533874772658234     p-value 0.8409049415235267\n",
      "ratio2 e densidade:                -0.07877570504458978     p-value 0.6961154741890438\n"
     ]
    }
   ],
   "source": [
    "corr(s_quiz_prof, ['dificuldade', 'curtidas', 'descurtidas', 'visualizacoes', 'comentarios', 'duracao', 'data', 'ratio', 'ratio2'], 'densidade')"
   ]
  },
  {
   "cell_type": "markdown",
   "metadata": {},
   "source": [
    "#### Compilado"
   ]
  },
  {
   "cell_type": "code",
   "execution_count": 39,
   "metadata": {},
   "outputs": [
    {
     "name": "stdout",
     "output_type": "stream",
     "text": [
      "dificuldade e densidade:           0.45594836198528704     p-value 0.00022184279559226227\n",
      "curtidas e densidade:              -0.15387581872623698     p-value 0.23640793374620195\n",
      "descurtidas e densidade:           -0.2082190832490687     p-value 0.10733157108937157\n",
      "visualizacoes e densidade:         -0.23183756260556979     p-value 0.07220372736596198\n",
      "comentarios e densidade:           -0.0688358699824917     p-value 0.5981040304768195\n",
      "duracao e densidade:               0.27474338491189515     p-value 0.03212549204259286\n",
      "data e densidade:                  -0.10255604763798983     p-value 0.43157776652598195\n",
      "ratio e densidade:                 -0.21068640532979596     p-value 0.1031389187013711\n",
      "ratio2 e densidade:                -0.24640370593768493     p-value 0.05558300721456312\n"
     ]
    }
   ],
   "source": [
    "corr(c_quiz_prof, ['dificuldade', 'curtidas', 'descurtidas', 'visualizacoes', 'comentarios', 'duracao', 'data', 'ratio', 'ratio2'], 'densidade')"
   ]
  },
  {
   "cell_type": "markdown",
   "metadata": {},
   "source": [
    "### Todas as colunas x dificuldade"
   ]
  },
  {
   "cell_type": "markdown",
   "metadata": {},
   "source": [
    "#### Primeiro questionário"
   ]
  },
  {
   "cell_type": "code",
   "execution_count": 40,
   "metadata": {},
   "outputs": [
    {
     "name": "stdout",
     "output_type": "stream",
     "text": [
      "densidade e dificuldade:           0.39918434594133223     p-value 0.019349621709694998\n",
      "curtidas e dificuldade:            -0.16538608523514195     p-value 0.34991909634935947\n",
      "descurtidas e dificuldade:         -0.24002706490757936     p-value 0.17152451800455068\n",
      "visualizacoes e dificuldade:       -0.15646799541201564     p-value 0.37686253216987275\n",
      "comentarios e dificuldade:         -0.19033032207878414     p-value 0.28094927483713705\n",
      "duracao e dificuldade:             0.062088429455223824     p-value 0.727217064781719\n",
      "data e dificuldade:                0.19813059598033064     p-value 0.2613282929799859\n",
      "ratio e dificuldade:               0.13722445268776273     p-value 0.4389947155700537\n",
      "ratio2 e dificuldade:              0.0259991627384361     p-value 0.8839578131270025\n"
     ]
    }
   ],
   "source": [
    "corr(p_quiz_prof, ['densidade', 'curtidas', 'descurtidas', 'visualizacoes', 'comentarios', 'duracao', 'data', 'ratio', 'ratio2'], 'dificuldade')"
   ]
  },
  {
   "cell_type": "markdown",
   "metadata": {},
   "source": [
    "#### Segundo questionário"
   ]
  },
  {
   "cell_type": "code",
   "execution_count": 41,
   "metadata": {},
   "outputs": [
    {
     "name": "stdout",
     "output_type": "stream",
     "text": [
      "densidade e dificuldade:           0.5650951518027669     p-value 0.0021313826346960655\n",
      "curtidas e dificuldade:            -0.3120429698553244     p-value 0.11306681840416352\n",
      "descurtidas e dificuldade:         -0.2724765639916798     p-value 0.1691264508872894\n",
      "visualizacoes e dificuldade:       -0.257797190573574     p-value 0.19420417514216287\n",
      "comentarios e dificuldade:         -0.31426658755704906     p-value 0.11038677688994766\n",
      "duracao e dificuldade:             -0.1904340269939163     p-value 0.34137745265033287\n",
      "data e dificuldade:                -0.1650586097853839     p-value 0.4106492559679478\n",
      "ratio e dificuldade:               0.20200585976374458     p-value 0.3122792442440719\n",
      "ratio2 e dificuldade:              0.26480990153002565     p-value 0.18192269218229692\n"
     ]
    }
   ],
   "source": [
    "corr(s_quiz_prof, ['densidade', 'curtidas', 'descurtidas', 'visualizacoes', 'comentarios', 'duracao', 'data', 'ratio', 'ratio2'], 'dificuldade')"
   ]
  },
  {
   "cell_type": "markdown",
   "metadata": {},
   "source": [
    "#### Compilado"
   ]
  },
  {
   "cell_type": "code",
   "execution_count": 42,
   "metadata": {},
   "outputs": [
    {
     "name": "stdout",
     "output_type": "stream",
     "text": [
      "densidade e dificuldade:           0.45594836198528704     p-value 0.00022184279559226227\n",
      "curtidas e dificuldade:            -0.21313890324577808     p-value 0.09909831188794863\n",
      "descurtidas e dificuldade:         -0.2263917044341006     p-value 0.07935281752252536\n",
      "visualizacoes e dificuldade:       -0.18775670634758512     p-value 0.1473343910736863\n",
      "comentarios e dificuldade:         -0.19861690309828048     p-value 0.12490964691589809\n",
      "duracao e dificuldade:             -0.062853445499457     p-value 0.6303589430142755\n",
      "data e dificuldade:                0.028642133414055526     p-value 0.8265571865514544\n",
      "ratio e dificuldade:               0.1704346470528535     p-value 0.1891052483949022\n",
      "ratio2 e dificuldade:              0.12076658468136628     p-value 0.35387290331001203\n"
     ]
    }
   ],
   "source": [
    "corr(c_quiz_prof, ['densidade', 'curtidas', 'descurtidas', 'visualizacoes', 'comentarios', 'duracao', 'data', 'ratio', 'ratio2'], 'dificuldade')"
   ]
  },
  {
   "cell_type": "markdown",
   "metadata": {},
   "source": [
    "# Verificando as correlações:  Alunos"
   ]
  },
  {
   "cell_type": "markdown",
   "metadata": {},
   "source": [
    "### Todas as colunas x densidade"
   ]
  },
  {
   "cell_type": "markdown",
   "metadata": {},
   "source": [
    "#### Primeiro questionário"
   ]
  },
  {
   "cell_type": "code",
   "execution_count": 43,
   "metadata": {},
   "outputs": [
    {
     "name": "stdout",
     "output_type": "stream",
     "text": [
      "dificuldade e densidade:           0.7411960832008249     p-value 5.335731060642856e-07\n",
      "curtidas e densidade:              -0.0076022630335601665     p-value 0.9659638772058868\n",
      "descurtidas e densidade:           -0.0955964590270575     p-value 0.5907131846930379\n",
      "visualizacoes e densidade:         -0.12388864004653591     p-value 0.4851366816254507\n",
      "comentarios e densidade:           0.0010042738228673211     p-value 0.9955024849099804\n",
      "duracao e densidade:               0.5771339593144851     p-value 0.00035245260411065907\n",
      "data e densidade:                  -0.25490948382004397     p-value 0.14568901849942606\n",
      "ratio e densidade:                 -0.5068740829485776     p-value 0.002219081088050509\n",
      "ratio2 e densidade:                -0.45598412225034507     p-value 0.006722441441496408\n"
     ]
    }
   ],
   "source": [
    "corr(p_quiz_aluno, ['dificuldade', 'curtidas', 'descurtidas', 'visualizacoes', 'comentarios', 'duracao', 'data', 'ratio', 'ratio2'], 'densidade')"
   ]
  },
  {
   "cell_type": "markdown",
   "metadata": {},
   "source": [
    "#### Segundo questionário"
   ]
  },
  {
   "cell_type": "code",
   "execution_count": 44,
   "metadata": {},
   "outputs": [
    {
     "name": "stdout",
     "output_type": "stream",
     "text": [
      "dificuldade e densidade:           0.32320125516660425     p-value 0.1000912672784829\n",
      "curtidas e densidade:              -0.15862961188805827     p-value 0.4293620865162157\n",
      "descurtidas e densidade:           -0.062150815606007284     p-value 0.7581115655683547\n",
      "visualizacoes e densidade:         -0.11207527701038134     p-value 0.5778266179668202\n",
      "comentarios e densidade:           -0.2242414872505364     p-value 0.2608215450108566\n",
      "duracao e densidade:               0.04885733364469965     p-value 0.8087789021209586\n",
      "data e densidade:                  -0.06561931250658419     p-value 0.7450414422087068\n",
      "ratio e densidade:                 -0.14243049104015149     p-value 0.4785129583152416\n",
      "ratio2 e densidade:                -0.4588253409165596     p-value 0.016072915601010613\n"
     ]
    }
   ],
   "source": [
    "corr(s_quiz_aluno, ['dificuldade', 'curtidas', 'descurtidas', 'visualizacoes', 'comentarios', 'duracao', 'data', 'ratio', 'ratio2'], 'densidade')"
   ]
  },
  {
   "cell_type": "markdown",
   "metadata": {},
   "source": [
    "#### Compilado"
   ]
  },
  {
   "cell_type": "code",
   "execution_count": 45,
   "metadata": {},
   "outputs": [
    {
     "name": "stdout",
     "output_type": "stream",
     "text": [
      "dificuldade e densidade:           0.45219036917326155     p-value 0.0002536715334758827\n",
      "curtidas e densidade:              -0.09888958816926924     p-value 0.4483100682793304\n",
      "descurtidas e densidade:           -0.09690108570299849     p-value 0.45753279578662825\n",
      "visualizacoes e densidade:         -0.12878166347710474     p-value 0.3225969377782557\n",
      "comentarios e densidade:           -0.0907060215802282     p-value 0.4869200702163333\n",
      "duracao e densidade:               0.2684296404832007     p-value 0.03646653246975494\n",
      "data e densidade:                  -0.14454701539458933     p-value 0.26637817211804954\n",
      "ratio e densidade:                 -0.29828435886210225     p-value 0.01954831880699484\n",
      "ratio2 e densidade:                -0.4281086524165232     p-value 0.0005779232406358685\n"
     ]
    }
   ],
   "source": [
    "corr(c_quiz_aluno, ['dificuldade', 'curtidas', 'descurtidas', 'visualizacoes', 'comentarios', 'duracao', 'data', 'ratio', 'ratio2'], 'densidade')"
   ]
  },
  {
   "cell_type": "markdown",
   "metadata": {},
   "source": [
    "### Todas as colunas x dificuldade"
   ]
  },
  {
   "cell_type": "markdown",
   "metadata": {},
   "source": [
    "#### Primeiro questionário"
   ]
  },
  {
   "cell_type": "code",
   "execution_count": 46,
   "metadata": {},
   "outputs": [
    {
     "name": "stdout",
     "output_type": "stream",
     "text": [
      "densidade e dificuldade:           0.7411960832008249     p-value 5.335731060642856e-07\n",
      "curtidas e dificuldade:            -0.2835285451195614     p-value 0.10417416385855384\n",
      "descurtidas e dificuldade:         -0.38729746610171667     p-value 0.02363710109189686\n",
      "visualizacoes e dificuldade:       -0.3309355624674172     p-value 0.05590811101838829\n",
      "comentarios e dificuldade:         -0.21450091581863115     p-value 0.22314719695194388\n",
      "duracao e dificuldade:             0.367858461025212     p-value 0.032320452851617984\n",
      "data e dificuldade:                -0.09688629464949539     p-value 0.5856893419675254\n",
      "ratio e dificuldade:               -0.3616970856987579     p-value 0.035561558027941954\n",
      "ratio2 e dificuldade:              -0.38966705982203753     p-value 0.022724981549075478\n"
     ]
    }
   ],
   "source": [
    "corr(p_quiz_aluno, ['densidade', 'curtidas', 'descurtidas', 'visualizacoes', 'comentarios', 'duracao', 'data', 'ratio', 'ratio2'], 'dificuldade')"
   ]
  },
  {
   "cell_type": "markdown",
   "metadata": {},
   "source": [
    "#### Segundo questionário"
   ]
  },
  {
   "cell_type": "code",
   "execution_count": 47,
   "metadata": {},
   "outputs": [
    {
     "name": "stdout",
     "output_type": "stream",
     "text": [
      "densidade e dificuldade:           0.32320125516660425     p-value 0.1000912672784829\n",
      "curtidas e dificuldade:            -0.06163720766003428     p-value 0.7600525869931402\n",
      "descurtidas e dificuldade:         0.04756714326348684     p-value 0.8137402405362446\n",
      "visualizacoes e dificuldade:       -0.05522529511964827     p-value 0.784400338831611\n",
      "comentarios e dificuldade:         -0.07181692683025243     p-value 0.7218601250422936\n",
      "duracao e dificuldade:             0.296584479185183     p-value 0.13304283361699215\n",
      "data e dificuldade:                -0.05155720469262363     p-value 0.7984202600975293\n",
      "ratio e dificuldade:               -0.3073086814618305     p-value 0.1189326545256503\n",
      "ratio2 e dificuldade:              -0.38885862478549493     p-value 0.04500108342509333\n"
     ]
    }
   ],
   "source": [
    "corr(s_quiz_aluno, ['densidade', 'curtidas', 'descurtidas', 'visualizacoes', 'comentarios', 'duracao', 'data', 'ratio', 'ratio2'], 'dificuldade')"
   ]
  },
  {
   "cell_type": "markdown",
   "metadata": {},
   "source": [
    "#### Compilado"
   ]
  },
  {
   "cell_type": "code",
   "execution_count": 48,
   "metadata": {},
   "outputs": [
    {
     "name": "stdout",
     "output_type": "stream",
     "text": [
      "densidade e dificuldade:           0.45219036917326155     p-value 0.0002536715334758827\n",
      "curtidas e dificuldade:            -0.1429817059526712     p-value 0.27164595140949466\n",
      "descurtidas e dificuldade:         -0.1320416976460826     p-value 0.3103949087180644\n",
      "visualizacoes e dificuldade:       -0.15781381144867268     p-value 0.22448237336137106\n",
      "comentarios e dificuldade:         -0.11859421453015034     p-value 0.3626609126523763\n",
      "duracao e dificuldade:             0.31882704883920565     p-value 0.012268200680802302\n",
      "data e dificuldade:                -0.07136734666531559     p-value 0.5846788649708324\n",
      "ratio e dificuldade:               -0.3180922189529577     p-value 0.012481078771296502\n",
      "ratio2 e dificuldade:              -0.3435887706902855     p-value 0.006706627077200855\n"
     ]
    }
   ],
   "source": [
    "corr(c_quiz_aluno, ['densidade', 'curtidas', 'descurtidas', 'visualizacoes', 'comentarios', 'duracao', 'data', 'ratio', 'ratio2'], 'dificuldade')"
   ]
  },
  {
   "cell_type": "markdown",
   "metadata": {},
   "source": [
    "# Visualizando"
   ]
  },
  {
   "cell_type": "code",
   "execution_count": 49,
   "metadata": {},
   "outputs": [
    {
     "data": {
      "text/plain": [
       "<matplotlib.collections.PathCollection at 0x7f6d713853a0>"
      ]
     },
     "execution_count": 49,
     "metadata": {},
     "output_type": "execute_result"
    },
    {
     "data": {
      "image/png": "[encoded data removed]",
      "text/plain": [
       "<Figure size 432x288 with 1 Axes>"
      ]
     },
     "metadata": {
      "needs_background": "light"
     },
     "output_type": "display_data"
    }
   ],
   "source": [
    "plt.scatter(c_quiz_prof['dificuldade'], c_quiz_prof['densidade'])"
   ]
  },
  {
   "cell_type": "code",
   "execution_count": 50,
   "metadata": {},
   "outputs": [
    {
     "data": {
      "text/plain": [
       "<matplotlib.collections.PathCollection at 0x7f6d717039a0>"
      ]
     },
     "execution_count": 50,
     "metadata": {},
     "output_type": "execute_result"
    },
    {
     "data": {
      "image/png": "[encoded data removed]",
      "text/plain": [
       "<Figure size 432x288 with 1 Axes>"
      ]
     },
     "metadata": {
      "needs_background": "light"
     },
     "output_type": "display_data"
    }
   ],
   "source": [
    "plt.scatter(c_quiz_aluno['dificuldade'], c_quiz_prof['densidade'])"
   ]
  },
  {
   "cell_type": "code",
   "execution_count": 51,
   "metadata": {},
   "outputs": [
    {
     "data": {
      "text/plain": [
       "<matplotlib.collections.PathCollection at 0x7f6d7147a3d0>"
      ]
     },
     "execution_count": 51,
     "metadata": {},
     "output_type": "execute_result"
    },
    {
     "data": {
      "image/png": "[encoded data removed]",
      "text/plain": [
       "<Figure size 432x288 with 1 Axes>"
      ]
     },
     "metadata": {
      "needs_background": "light"
     },
     "output_type": "display_data"
    }
   ],
   "source": [
    "plt.scatter(c_quiz_aluno['ratio2'], c_quiz_aluno['densidade'])"
   ]
  },
  {
   "cell_type": "code",
   "execution_count": 52,
   "metadata": {},
   "outputs": [
    {
     "data": {
      "text/plain": [
       "<matplotlib.collections.PathCollection at 0x7f6d7126ec10>"
      ]
     },
     "execution_count": 52,
     "metadata": {},
     "output_type": "execute_result"
    },
    {
     "data": {
      "image/png": "[encoded data removed]",
      "text/plain": [
       "<Figure size 432x288 with 1 Axes>"
      ]
     },
     "metadata": {
      "needs_background": "light"
     },
     "output_type": "display_data"
    }
   ],
   "source": [
    "plt.scatter(c_quiz_aluno['dificuldade'], c_quiz_aluno['densidade'])"
   ]
  },
  {
   "cell_type": "code",
   "execution_count": 53,
   "metadata": {},
   "outputs": [],
   "source": [
    "def regressao(questionario, col1, col2):\n",
    "    X = questionario[col1].values.reshape(-1, 1)\n",
    "    Y = questionario[col2].values.reshape(-1, 1)\n",
    "\n",
    "    plt.scatter(X, Y)\n",
    "\n",
    "    X_mean = np.mean(X)\n",
    "    Y_mean = np.mean(Y)\n",
    "\n",
    "    num = 0\n",
    "    den = 0\n",
    "    for i in range(len(X)):\n",
    "        num += (X[i] - X_mean)*(Y[i] - Y_mean)\n",
    "        den += (X[i] - X_mean)**2\n",
    "    m = num / den\n",
    "\n",
    "    c = Y_mean - m*X_mean\n",
    "\n",
    "  \n",
    "    Y_pred = m*X + c\n",
    "\n",
    "    plt.scatter(X, Y) # actual\n",
    "    plt.plot(X, Y_pred, color='red')\n",
    "    plt.show()"
   ]
  },
  {
   "cell_type": "code",
   "execution_count": 54,
   "metadata": {},
   "outputs": [
    {
     "data": {
      "image/png": "[encoded data removed]",
      "text/plain": [
       "<Figure size 432x288 with 1 Axes>"
      ]
     },
     "metadata": {
      "needs_background": "light"
     },
     "output_type": "display_data"
    }
   ],
   "source": [
    "regressao(c_quiz_aluno, 'ratio2', 'densidade')"
   ]
  },
  {
   "cell_type": "code",
   "execution_count": 55,
   "metadata": {},
   "outputs": [
    {
     "data": {
      "image/png": "[encoded data removed]",
      "text/plain": [
       "<Figure size 432x288 with 1 Axes>"
      ]
     },
     "metadata": {
      "needs_background": "light"
     },
     "output_type": "display_data"
    }
   ],
   "source": [
    "regressao(c_quiz_aluno, 'dificuldade', 'densidade')"
   ]
  },
  {
   "cell_type": "markdown",
   "metadata": {},
   "source": [
    "## Plotando heatmap da correlação"
   ]
  },
  {
   "cell_type": "code",
   "execution_count": 56,
   "metadata": {},
   "outputs": [],
   "source": [
    "c_quiz_aluno.rename(columns={'ratio': 'ratio1'}, inplace=True)\n",
    "c_quiz_prof.rename(columns={'ratio': 'ratio1'}, inplace=True)"
   ]
  },
  {
   "cell_type": "code",
   "execution_count": 57,
   "metadata": {
    "scrolled": true
   },
   "outputs": [
    {
     "data": {
      "text/html": [
       "<style  type=\"text/css\" >\n",
       "    #T_76483f3c_c604_11ea_a8f1_a1e085e58ba9row0_col0 {\n",
       "            background-color:  #b40426;\n",
       "            color:  #f1f1f1;\n",
       "        }    #T_76483f3c_c604_11ea_a8f1_a1e085e58ba9row0_col1 {\n",
       "            background-color:  #ead4c8;\n",
       "            color:  #000000;\n",
       "        }    #T_76483f3c_c604_11ea_a8f1_a1e085e58ba9row0_col2 {\n",
       "            background-color:  #3b4cc0;\n",
       "            color:  #f1f1f1;\n",
       "        }    #T_76483f3c_c604_11ea_a8f1_a1e085e58ba9row0_col3 {\n",
       "            background-color:  #5977e3;\n",
       "            color:  #000000;\n",
       "        }    #T_76483f3c_c604_11ea_a8f1_a1e085e58ba9row0_col4 {\n",
       "            background-color:  #3e51c5;\n",
       "            color:  #f1f1f1;\n",
       "        }    #T_76483f3c_c604_11ea_a8f1_a1e085e58ba9row0_col5 {\n",
       "            background-color:  #5b7ae5;\n",
       "            color:  #000000;\n",
       "        }    #T_76483f3c_c604_11ea_a8f1_a1e085e58ba9row0_col6 {\n",
       "            background-color:  #f2c9b4;\n",
       "            color:  #000000;\n",
       "        }    #T_76483f3c_c604_11ea_a8f1_a1e085e58ba9row0_col7 {\n",
       "            background-color:  #5572df;\n",
       "            color:  #000000;\n",
       "        }    #T_76483f3c_c604_11ea_a8f1_a1e085e58ba9row0_col8 {\n",
       "            background-color:  #adc9fd;\n",
       "            color:  #000000;\n",
       "        }    #T_76483f3c_c604_11ea_a8f1_a1e085e58ba9row0_col9 {\n",
       "            background-color:  #7295f4;\n",
       "            color:  #000000;\n",
       "        }    #T_76483f3c_c604_11ea_a8f1_a1e085e58ba9row1_col0 {\n",
       "            background-color:  #ecd3c5;\n",
       "            color:  #000000;\n",
       "        }    #T_76483f3c_c604_11ea_a8f1_a1e085e58ba9row1_col1 {\n",
       "            background-color:  #b40426;\n",
       "            color:  #f1f1f1;\n",
       "        }    #T_76483f3c_c604_11ea_a8f1_a1e085e58ba9row1_col2 {\n",
       "            background-color:  #455cce;\n",
       "            color:  #f1f1f1;\n",
       "        }    #T_76483f3c_c604_11ea_a8f1_a1e085e58ba9row1_col3 {\n",
       "            background-color:  #4a63d3;\n",
       "            color:  #f1f1f1;\n",
       "        }    #T_76483f3c_c604_11ea_a8f1_a1e085e58ba9row1_col4 {\n",
       "            background-color:  #3b4cc0;\n",
       "            color:  #f1f1f1;\n",
       "        }    #T_76483f3c_c604_11ea_a8f1_a1e085e58ba9row1_col5 {\n",
       "            background-color:  #3b4cc0;\n",
       "            color:  #f1f1f1;\n",
       "        }    #T_76483f3c_c604_11ea_a8f1_a1e085e58ba9row1_col6 {\n",
       "            background-color:  #c7d7f0;\n",
       "            color:  #000000;\n",
       "        }    #T_76483f3c_c604_11ea_a8f1_a1e085e58ba9row1_col7 {\n",
       "            background-color:  #7a9df8;\n",
       "            color:  #000000;\n",
       "        }    #T_76483f3c_c604_11ea_a8f1_a1e085e58ba9row1_col8 {\n",
       "            background-color:  #e9d5cb;\n",
       "            color:  #000000;\n",
       "        }    #T_76483f3c_c604_11ea_a8f1_a1e085e58ba9row1_col9 {\n",
       "            background-color:  #c5d6f2;\n",
       "            color:  #000000;\n",
       "        }    #T_76483f3c_c604_11ea_a8f1_a1e085e58ba9row2_col0 {\n",
       "            background-color:  #3d50c3;\n",
       "            color:  #f1f1f1;\n",
       "        }    #T_76483f3c_c604_11ea_a8f1_a1e085e58ba9row2_col1 {\n",
       "            background-color:  #445acc;\n",
       "            color:  #f1f1f1;\n",
       "        }    #T_76483f3c_c604_11ea_a8f1_a1e085e58ba9row2_col2 {\n",
       "            background-color:  #b40426;\n",
       "            color:  #f1f1f1;\n",
       "        }    #T_76483f3c_c604_11ea_a8f1_a1e085e58ba9row2_col3 {\n",
       "            background-color:  #c83836;\n",
       "            color:  #f1f1f1;\n",
       "        }    #T_76483f3c_c604_11ea_a8f1_a1e085e58ba9row2_col4 {\n",
       "            background-color:  #e67259;\n",
       "            color:  #000000;\n",
       "        }    #T_76483f3c_c604_11ea_a8f1_a1e085e58ba9row2_col5 {\n",
       "            background-color:  #f7af91;\n",
       "            color:  #000000;\n",
       "        }    #T_76483f3c_c604_11ea_a8f1_a1e085e58ba9row2_col6 {\n",
       "            background-color:  #ecd3c5;\n",
       "            color:  #000000;\n",
       "        }    #T_76483f3c_c604_11ea_a8f1_a1e085e58ba9row2_col7 {\n",
       "            background-color:  #d8dce2;\n",
       "            color:  #000000;\n",
       "        }    #T_76483f3c_c604_11ea_a8f1_a1e085e58ba9row2_col8 {\n",
       "            background-color:  #aac7fd;\n",
       "            color:  #000000;\n",
       "        }    #T_76483f3c_c604_11ea_a8f1_a1e085e58ba9row2_col9 {\n",
       "            background-color:  #93b5fe;\n",
       "            color:  #000000;\n",
       "        }    #T_76483f3c_c604_11ea_a8f1_a1e085e58ba9row3_col0 {\n",
       "            background-color:  #516ddb;\n",
       "            color:  #000000;\n",
       "        }    #T_76483f3c_c604_11ea_a8f1_a1e085e58ba9row3_col1 {\n",
       "            background-color:  #3d50c3;\n",
       "            color:  #f1f1f1;\n",
       "        }    #T_76483f3c_c604_11ea_a8f1_a1e085e58ba9row3_col2 {\n",
       "            background-color:  #ca3b37;\n",
       "            color:  #f1f1f1;\n",
       "        }    #T_76483f3c_c604_11ea_a8f1_a1e085e58ba9row3_col3 {\n",
       "            background-color:  #b40426;\n",
       "            color:  #f1f1f1;\n",
       "        }    #T_76483f3c_c604_11ea_a8f1_a1e085e58ba9row3_col4 {\n",
       "            background-color:  #f18d6f;\n",
       "            color:  #000000;\n",
       "        }    #T_76483f3c_c604_11ea_a8f1_a1e085e58ba9row3_col5 {\n",
       "            background-color:  #f08b6e;\n",
       "            color:  #000000;\n",
       "        }    #T_76483f3c_c604_11ea_a8f1_a1e085e58ba9row3_col6 {\n",
       "            background-color:  #f5c1a9;\n",
       "            color:  #000000;\n",
       "        }    #T_76483f3c_c604_11ea_a8f1_a1e085e58ba9row3_col7 {\n",
       "            background-color:  #a5c3fe;\n",
       "            color:  #000000;\n",
       "        }    #T_76483f3c_c604_11ea_a8f1_a1e085e58ba9row3_col8 {\n",
       "            background-color:  #a1c0ff;\n",
       "            color:  #000000;\n",
       "        }    #T_76483f3c_c604_11ea_a8f1_a1e085e58ba9row3_col9 {\n",
       "            background-color:  #92b4fe;\n",
       "            color:  #000000;\n",
       "        }    #T_76483f3c_c604_11ea_a8f1_a1e085e58ba9row4_col0 {\n",
       "            background-color:  #4358cb;\n",
       "            color:  #f1f1f1;\n",
       "        }    #T_76483f3c_c604_11ea_a8f1_a1e085e58ba9row4_col1 {\n",
       "            background-color:  #3b4cc0;\n",
       "            color:  #f1f1f1;\n",
       "        }    #T_76483f3c_c604_11ea_a8f1_a1e085e58ba9row4_col2 {\n",
       "            background-color:  #e67259;\n",
       "            color:  #000000;\n",
       "        }    #T_76483f3c_c604_11ea_a8f1_a1e085e58ba9row4_col3 {\n",
       "            background-color:  #f08a6c;\n",
       "            color:  #000000;\n",
       "        }    #T_76483f3c_c604_11ea_a8f1_a1e085e58ba9row4_col4 {\n",
       "            background-color:  #b40426;\n",
       "            color:  #f1f1f1;\n",
       "        }    #T_76483f3c_c604_11ea_a8f1_a1e085e58ba9row4_col5 {\n",
       "            background-color:  #f6a283;\n",
       "            color:  #000000;\n",
       "        }    #T_76483f3c_c604_11ea_a8f1_a1e085e58ba9row4_col6 {\n",
       "            background-color:  #e9d5cb;\n",
       "            color:  #000000;\n",
       "        }    #T_76483f3c_c604_11ea_a8f1_a1e085e58ba9row4_col7 {\n",
       "            background-color:  #afcafc;\n",
       "            color:  #000000;\n",
       "        }    #T_76483f3c_c604_11ea_a8f1_a1e085e58ba9row4_col8 {\n",
       "            background-color:  #aac7fd;\n",
       "            color:  #000000;\n",
       "        }    #T_76483f3c_c604_11ea_a8f1_a1e085e58ba9row4_col9 {\n",
       "            background-color:  #a6c4fe;\n",
       "            color:  #000000;\n",
       "        }    #T_76483f3c_c604_11ea_a8f1_a1e085e58ba9row5_col0 {\n",
       "            background-color:  #6788ee;\n",
       "            color:  #000000;\n",
       "        }    #T_76483f3c_c604_11ea_a8f1_a1e085e58ba9row5_col1 {\n",
       "            background-color:  #4055c8;\n",
       "            color:  #f1f1f1;\n",
       "        }    #T_76483f3c_c604_11ea_a8f1_a1e085e58ba9row5_col2 {\n",
       "            background-color:  #f7ac8e;\n",
       "            color:  #000000;\n",
       "        }    #T_76483f3c_c604_11ea_a8f1_a1e085e58ba9row5_col3 {\n",
       "            background-color:  #ee8468;\n",
       "            color:  #000000;\n",
       "        }    #T_76483f3c_c604_11ea_a8f1_a1e085e58ba9row5_col4 {\n",
       "            background-color:  #f5a081;\n",
       "            color:  #000000;\n",
       "        }    #T_76483f3c_c604_11ea_a8f1_a1e085e58ba9row5_col5 {\n",
       "            background-color:  #b40426;\n",
       "            color:  #f1f1f1;\n",
       "        }    #T_76483f3c_c604_11ea_a8f1_a1e085e58ba9row5_col6 {\n",
       "            background-color:  #ead4c8;\n",
       "            color:  #000000;\n",
       "        }    #T_76483f3c_c604_11ea_a8f1_a1e085e58ba9row5_col7 {\n",
       "            background-color:  #5e7de7;\n",
       "            color:  #000000;\n",
       "        }    #T_76483f3c_c604_11ea_a8f1_a1e085e58ba9row5_col8 {\n",
       "            background-color:  #bad0f8;\n",
       "            color:  #000000;\n",
       "        }    #T_76483f3c_c604_11ea_a8f1_a1e085e58ba9row5_col9 {\n",
       "            background-color:  #b3cdfb;\n",
       "            color:  #000000;\n",
       "        }    #T_76483f3c_c604_11ea_a8f1_a1e085e58ba9row6_col0 {\n",
       "            background-color:  #c6d6f1;\n",
       "            color:  #000000;\n",
       "        }    #T_76483f3c_c604_11ea_a8f1_a1e085e58ba9row6_col1 {\n",
       "            background-color:  #6485ec;\n",
       "            color:  #000000;\n",
       "        }    #T_76483f3c_c604_11ea_a8f1_a1e085e58ba9row6_col2 {\n",
       "            background-color:  #aec9fc;\n",
       "            color:  #000000;\n",
       "        }    #T_76483f3c_c604_11ea_a8f1_a1e085e58ba9row6_col3 {\n",
       "            background-color:  #d5dbe5;\n",
       "            color:  #000000;\n",
       "        }    #T_76483f3c_c604_11ea_a8f1_a1e085e58ba9row6_col4 {\n",
       "            background-color:  #a6c4fe;\n",
       "            color:  #000000;\n",
       "        }    #T_76483f3c_c604_11ea_a8f1_a1e085e58ba9row6_col5 {\n",
       "            background-color:  #a5c3fe;\n",
       "            color:  #000000;\n",
       "        }    #T_76483f3c_c604_11ea_a8f1_a1e085e58ba9row6_col6 {\n",
       "            background-color:  #b40426;\n",
       "            color:  #f1f1f1;\n",
       "        }    #T_76483f3c_c604_11ea_a8f1_a1e085e58ba9row6_col7 {\n",
       "            background-color:  #3b4cc0;\n",
       "            color:  #f1f1f1;\n",
       "        }    #T_76483f3c_c604_11ea_a8f1_a1e085e58ba9row6_col8 {\n",
       "            background-color:  #3b4cc0;\n",
       "            color:  #f1f1f1;\n",
       "        }    #T_76483f3c_c604_11ea_a8f1_a1e085e58ba9row6_col9 {\n",
       "            background-color:  #3b4cc0;\n",
       "            color:  #f1f1f1;\n",
       "        }    #T_76483f3c_c604_11ea_a8f1_a1e085e58ba9row7_col0 {\n",
       "            background-color:  #5e7de7;\n",
       "            color:  #000000;\n",
       "        }    #T_76483f3c_c604_11ea_a8f1_a1e085e58ba9row7_col1 {\n",
       "            background-color:  #7ea1fa;\n",
       "            color:  #000000;\n",
       "        }    #T_76483f3c_c604_11ea_a8f1_a1e085e58ba9row7_col2 {\n",
       "            background-color:  #dadce0;\n",
       "            color:  #000000;\n",
       "        }    #T_76483f3c_c604_11ea_a8f1_a1e085e58ba9row7_col3 {\n",
       "            background-color:  #b2ccfb;\n",
       "            color:  #000000;\n",
       "        }    #T_76483f3c_c604_11ea_a8f1_a1e085e58ba9row7_col4 {\n",
       "            background-color:  #b3cdfb;\n",
       "            color:  #000000;\n",
       "        }    #T_76483f3c_c604_11ea_a8f1_a1e085e58ba9row7_col5 {\n",
       "            background-color:  #5b7ae5;\n",
       "            color:  #000000;\n",
       "        }    #T_76483f3c_c604_11ea_a8f1_a1e085e58ba9row7_col6 {\n",
       "            background-color:  #adc9fd;\n",
       "            color:  #000000;\n",
       "        }    #T_76483f3c_c604_11ea_a8f1_a1e085e58ba9row7_col7 {\n",
       "            background-color:  #b40426;\n",
       "            color:  #f1f1f1;\n",
       "        }    #T_76483f3c_c604_11ea_a8f1_a1e085e58ba9row7_col8 {\n",
       "            background-color:  #e2dad5;\n",
       "            color:  #000000;\n",
       "        }    #T_76483f3c_c604_11ea_a8f1_a1e085e58ba9row7_col9 {\n",
       "            background-color:  #a7c5fe;\n",
       "            color:  #000000;\n",
       "        }    #T_76483f3c_c604_11ea_a8f1_a1e085e58ba9row8_col0 {\n",
       "            background-color:  #4358cb;\n",
       "            color:  #f1f1f1;\n",
       "        }    #T_76483f3c_c604_11ea_a8f1_a1e085e58ba9row8_col1 {\n",
       "            background-color:  #a6c4fe;\n",
       "            color:  #000000;\n",
       "        }    #T_76483f3c_c604_11ea_a8f1_a1e085e58ba9row8_col2 {\n",
       "            background-color:  #3c4ec2;\n",
       "            color:  #f1f1f1;\n",
       "        }    #T_76483f3c_c604_11ea_a8f1_a1e085e58ba9row8_col3 {\n",
       "            background-color:  #3b4cc0;\n",
       "            color:  #f1f1f1;\n",
       "        }    #T_76483f3c_c604_11ea_a8f1_a1e085e58ba9row8_col4 {\n",
       "            background-color:  #3b4cc0;\n",
       "            color:  #f1f1f1;\n",
       "        }    #T_76483f3c_c604_11ea_a8f1_a1e085e58ba9row8_col5 {\n",
       "            background-color:  #4961d2;\n",
       "            color:  #f1f1f1;\n",
       "        }    #T_76483f3c_c604_11ea_a8f1_a1e085e58ba9row8_col6 {\n",
       "            background-color:  #3b4cc0;\n",
       "            color:  #f1f1f1;\n",
       "        }    #T_76483f3c_c604_11ea_a8f1_a1e085e58ba9row8_col7 {\n",
       "            background-color:  #96b7ff;\n",
       "            color:  #000000;\n",
       "        }    #T_76483f3c_c604_11ea_a8f1_a1e085e58ba9row8_col8 {\n",
       "            background-color:  #b40426;\n",
       "            color:  #f1f1f1;\n",
       "        }    #T_76483f3c_c604_11ea_a8f1_a1e085e58ba9row8_col9 {\n",
       "            background-color:  #eb7d62;\n",
       "            color:  #000000;\n",
       "        }    #T_76483f3c_c604_11ea_a8f1_a1e085e58ba9row9_col0 {\n",
       "            background-color:  #3b4cc0;\n",
       "            color:  #f1f1f1;\n",
       "        }    #T_76483f3c_c604_11ea_a8f1_a1e085e58ba9row9_col1 {\n",
       "            background-color:  #98b9ff;\n",
       "            color:  #000000;\n",
       "        }    #T_76483f3c_c604_11ea_a8f1_a1e085e58ba9row9_col2 {\n",
       "            background-color:  #5a78e4;\n",
       "            color:  #000000;\n",
       "        }    #T_76483f3c_c604_11ea_a8f1_a1e085e58ba9row9_col3 {\n",
       "            background-color:  #6384eb;\n",
       "            color:  #000000;\n",
       "        }    #T_76483f3c_c604_11ea_a8f1_a1e085e58ba9row9_col4 {\n",
       "            background-color:  #6f92f3;\n",
       "            color:  #000000;\n",
       "        }    #T_76483f3c_c604_11ea_a8f1_a1e085e58ba9row9_col5 {\n",
       "            background-color:  #7a9df8;\n",
       "            color:  #000000;\n",
       "        }    #T_76483f3c_c604_11ea_a8f1_a1e085e58ba9row9_col6 {\n",
       "            background-color:  #7597f6;\n",
       "            color:  #000000;\n",
       "        }    #T_76483f3c_c604_11ea_a8f1_a1e085e58ba9row9_col7 {\n",
       "            background-color:  #6e90f2;\n",
       "            color:  #000000;\n",
       "        }    #T_76483f3c_c604_11ea_a8f1_a1e085e58ba9row9_col8 {\n",
       "            background-color:  #e46e56;\n",
       "            color:  #000000;\n",
       "        }    #T_76483f3c_c604_11ea_a8f1_a1e085e58ba9row9_col9 {\n",
       "            background-color:  #b40426;\n",
       "            color:  #f1f1f1;\n",
       "        }</style><table id=\"T_76483f3c_c604_11ea_a8f1_a1e085e58ba9\" ><thead>    <tr>        <th class=\"blank level0\" ></th>        <th class=\"col_heading level0 col0\" >densidade</th>        <th class=\"col_heading level0 col1\" >dificuldade</th>        <th class=\"col_heading level0 col2\" >visualizacoes</th>        <th class=\"col_heading level0 col3\" >curtidas</th>        <th class=\"col_heading level0 col4\" >descurtidas</th>        <th class=\"col_heading level0 col5\" >comentarios</th>        <th class=\"col_heading level0 col6\" >duracao</th>        <th class=\"col_heading level0 col7\" >data</th>        <th class=\"col_heading level0 col8\" >ratio1</th>        <th class=\"col_heading level0 col9\" >ratio2</th>    </tr></thead><tbody>\n",
       "                <tr>\n",
       "                        <th id=\"T_76483f3c_c604_11ea_a8f1_a1e085e58ba9level0_row0\" class=\"row_heading level0 row0\" >densidade</th>\n",
       "                        <td id=\"T_76483f3c_c604_11ea_a8f1_a1e085e58ba9row0_col0\" class=\"data row0 col0\" >1.00</td>\n",
       "                        <td id=\"T_76483f3c_c604_11ea_a8f1_a1e085e58ba9row0_col1\" class=\"data row0 col1\" >0.46</td>\n",
       "                        <td id=\"T_76483f3c_c604_11ea_a8f1_a1e085e58ba9row0_col2\" class=\"data row0 col2\" >-0.23</td>\n",
       "                        <td id=\"T_76483f3c_c604_11ea_a8f1_a1e085e58ba9row0_col3\" class=\"data row0 col3\" >-0.15</td>\n",
       "                        <td id=\"T_76483f3c_c604_11ea_a8f1_a1e085e58ba9row0_col4\" class=\"data row0 col4\" >-0.21</td>\n",
       "                        <td id=\"T_76483f3c_c604_11ea_a8f1_a1e085e58ba9row0_col5\" class=\"data row0 col5\" >-0.07</td>\n",
       "                        <td id=\"T_76483f3c_c604_11ea_a8f1_a1e085e58ba9row0_col6\" class=\"data row0 col6\" >0.27</td>\n",
       "                        <td id=\"T_76483f3c_c604_11ea_a8f1_a1e085e58ba9row0_col7\" class=\"data row0 col7\" >-0.10</td>\n",
       "                        <td id=\"T_76483f3c_c604_11ea_a8f1_a1e085e58ba9row0_col8\" class=\"data row0 col8\" >-0.21</td>\n",
       "                        <td id=\"T_76483f3c_c604_11ea_a8f1_a1e085e58ba9row0_col9\" class=\"data row0 col9\" >-0.25</td>\n",
       "            </tr>\n",
       "            <tr>\n",
       "                        <th id=\"T_76483f3c_c604_11ea_a8f1_a1e085e58ba9level0_row1\" class=\"row_heading level0 row1\" >dificuldade</th>\n",
       "                        <td id=\"T_76483f3c_c604_11ea_a8f1_a1e085e58ba9row1_col0\" class=\"data row1 col0\" >0.46</td>\n",
       "                        <td id=\"T_76483f3c_c604_11ea_a8f1_a1e085e58ba9row1_col1\" class=\"data row1 col1\" >1.00</td>\n",
       "                        <td id=\"T_76483f3c_c604_11ea_a8f1_a1e085e58ba9row1_col2\" class=\"data row1 col2\" >-0.19</td>\n",
       "                        <td id=\"T_76483f3c_c604_11ea_a8f1_a1e085e58ba9row1_col3\" class=\"data row1 col3\" >-0.21</td>\n",
       "                        <td id=\"T_76483f3c_c604_11ea_a8f1_a1e085e58ba9row1_col4\" class=\"data row1 col4\" >-0.23</td>\n",
       "                        <td id=\"T_76483f3c_c604_11ea_a8f1_a1e085e58ba9row1_col5\" class=\"data row1 col5\" >-0.20</td>\n",
       "                        <td id=\"T_76483f3c_c604_11ea_a8f1_a1e085e58ba9row1_col6\" class=\"data row1 col6\" >-0.06</td>\n",
       "                        <td id=\"T_76483f3c_c604_11ea_a8f1_a1e085e58ba9row1_col7\" class=\"data row1 col7\" >0.03</td>\n",
       "                        <td id=\"T_76483f3c_c604_11ea_a8f1_a1e085e58ba9row1_col8\" class=\"data row1 col8\" >0.17</td>\n",
       "                        <td id=\"T_76483f3c_c604_11ea_a8f1_a1e085e58ba9row1_col9\" class=\"data row1 col9\" >0.12</td>\n",
       "            </tr>\n",
       "            <tr>\n",
       "                        <th id=\"T_76483f3c_c604_11ea_a8f1_a1e085e58ba9level0_row2\" class=\"row_heading level0 row2\" >visualizacoes</th>\n",
       "                        <td id=\"T_76483f3c_c604_11ea_a8f1_a1e085e58ba9row2_col0\" class=\"data row2 col0\" >-0.23</td>\n",
       "                        <td id=\"T_76483f3c_c604_11ea_a8f1_a1e085e58ba9row2_col1\" class=\"data row2 col1\" >-0.19</td>\n",
       "                        <td id=\"T_76483f3c_c604_11ea_a8f1_a1e085e58ba9row2_col2\" class=\"data row2 col2\" >1.00</td>\n",
       "                        <td id=\"T_76483f3c_c604_11ea_a8f1_a1e085e58ba9row2_col3\" class=\"data row2 col3\" >0.93</td>\n",
       "                        <td id=\"T_76483f3c_c604_11ea_a8f1_a1e085e58ba9row2_col4\" class=\"data row2 col4\" >0.80</td>\n",
       "                        <td id=\"T_76483f3c_c604_11ea_a8f1_a1e085e58ba9row2_col5\" class=\"data row2 col5\" >0.63</td>\n",
       "                        <td id=\"T_76483f3c_c604_11ea_a8f1_a1e085e58ba9row2_col6\" class=\"data row2 col6\" >0.19</td>\n",
       "                        <td id=\"T_76483f3c_c604_11ea_a8f1_a1e085e58ba9row2_col7\" class=\"data row2 col7\" >0.37</td>\n",
       "                        <td id=\"T_76483f3c_c604_11ea_a8f1_a1e085e58ba9row2_col8\" class=\"data row2 col8\" >-0.22</td>\n",
       "                        <td id=\"T_76483f3c_c604_11ea_a8f1_a1e085e58ba9row2_col9\" class=\"data row2 col9\" >-0.10</td>\n",
       "            </tr>\n",
       "            <tr>\n",
       "                        <th id=\"T_76483f3c_c604_11ea_a8f1_a1e085e58ba9level0_row3\" class=\"row_heading level0 row3\" >curtidas</th>\n",
       "                        <td id=\"T_76483f3c_c604_11ea_a8f1_a1e085e58ba9row3_col0\" class=\"data row3 col0\" >-0.15</td>\n",
       "                        <td id=\"T_76483f3c_c604_11ea_a8f1_a1e085e58ba9row3_col1\" class=\"data row3 col1\" >-0.21</td>\n",
       "                        <td id=\"T_76483f3c_c604_11ea_a8f1_a1e085e58ba9row3_col2\" class=\"data row3 col2\" >0.93</td>\n",
       "                        <td id=\"T_76483f3c_c604_11ea_a8f1_a1e085e58ba9row3_col3\" class=\"data row3 col3\" >1.00</td>\n",
       "                        <td id=\"T_76483f3c_c604_11ea_a8f1_a1e085e58ba9row3_col4\" class=\"data row3 col4\" >0.73</td>\n",
       "                        <td id=\"T_76483f3c_c604_11ea_a8f1_a1e085e58ba9row3_col5\" class=\"data row3 col5\" >0.74</td>\n",
       "                        <td id=\"T_76483f3c_c604_11ea_a8f1_a1e085e58ba9row3_col6\" class=\"data row3 col6\" >0.33</td>\n",
       "                        <td id=\"T_76483f3c_c604_11ea_a8f1_a1e085e58ba9row3_col7\" class=\"data row3 col7\" >0.18</td>\n",
       "                        <td id=\"T_76483f3c_c604_11ea_a8f1_a1e085e58ba9row3_col8\" class=\"data row3 col8\" >-0.28</td>\n",
       "                        <td id=\"T_76483f3c_c604_11ea_a8f1_a1e085e58ba9row3_col9\" class=\"data row3 col9\" >-0.11</td>\n",
       "            </tr>\n",
       "            <tr>\n",
       "                        <th id=\"T_76483f3c_c604_11ea_a8f1_a1e085e58ba9level0_row4\" class=\"row_heading level0 row4\" >descurtidas</th>\n",
       "                        <td id=\"T_76483f3c_c604_11ea_a8f1_a1e085e58ba9row4_col0\" class=\"data row4 col0\" >-0.21</td>\n",
       "                        <td id=\"T_76483f3c_c604_11ea_a8f1_a1e085e58ba9row4_col1\" class=\"data row4 col1\" >-0.23</td>\n",
       "                        <td id=\"T_76483f3c_c604_11ea_a8f1_a1e085e58ba9row4_col2\" class=\"data row4 col2\" >0.80</td>\n",
       "                        <td id=\"T_76483f3c_c604_11ea_a8f1_a1e085e58ba9row4_col3\" class=\"data row4 col3\" >0.73</td>\n",
       "                        <td id=\"T_76483f3c_c604_11ea_a8f1_a1e085e58ba9row4_col4\" class=\"data row4 col4\" >1.00</td>\n",
       "                        <td id=\"T_76483f3c_c604_11ea_a8f1_a1e085e58ba9row4_col5\" class=\"data row4 col5\" >0.67</td>\n",
       "                        <td id=\"T_76483f3c_c604_11ea_a8f1_a1e085e58ba9row4_col6\" class=\"data row4 col6\" >0.17</td>\n",
       "                        <td id=\"T_76483f3c_c604_11ea_a8f1_a1e085e58ba9row4_col7\" class=\"data row4 col7\" >0.21</td>\n",
       "                        <td id=\"T_76483f3c_c604_11ea_a8f1_a1e085e58ba9row4_col8\" class=\"data row4 col8\" >-0.23</td>\n",
       "                        <td id=\"T_76483f3c_c604_11ea_a8f1_a1e085e58ba9row4_col9\" class=\"data row4 col9\" >-0.02</td>\n",
       "            </tr>\n",
       "            <tr>\n",
       "                        <th id=\"T_76483f3c_c604_11ea_a8f1_a1e085e58ba9level0_row5\" class=\"row_heading level0 row5\" >comentarios</th>\n",
       "                        <td id=\"T_76483f3c_c604_11ea_a8f1_a1e085e58ba9row5_col0\" class=\"data row5 col0\" >-0.07</td>\n",
       "                        <td id=\"T_76483f3c_c604_11ea_a8f1_a1e085e58ba9row5_col1\" class=\"data row5 col1\" >-0.20</td>\n",
       "                        <td id=\"T_76483f3c_c604_11ea_a8f1_a1e085e58ba9row5_col2\" class=\"data row5 col2\" >0.63</td>\n",
       "                        <td id=\"T_76483f3c_c604_11ea_a8f1_a1e085e58ba9row5_col3\" class=\"data row5 col3\" >0.74</td>\n",
       "                        <td id=\"T_76483f3c_c604_11ea_a8f1_a1e085e58ba9row5_col4\" class=\"data row5 col4\" >0.67</td>\n",
       "                        <td id=\"T_76483f3c_c604_11ea_a8f1_a1e085e58ba9row5_col5\" class=\"data row5 col5\" >1.00</td>\n",
       "                        <td id=\"T_76483f3c_c604_11ea_a8f1_a1e085e58ba9row5_col6\" class=\"data row5 col6\" >0.18</td>\n",
       "                        <td id=\"T_76483f3c_c604_11ea_a8f1_a1e085e58ba9row5_col7\" class=\"data row5 col7\" >-0.07</td>\n",
       "                        <td id=\"T_76483f3c_c604_11ea_a8f1_a1e085e58ba9row5_col8\" class=\"data row5 col8\" >-0.14</td>\n",
       "                        <td id=\"T_76483f3c_c604_11ea_a8f1_a1e085e58ba9row5_col9\" class=\"data row5 col9\" >0.04</td>\n",
       "            </tr>\n",
       "            <tr>\n",
       "                        <th id=\"T_76483f3c_c604_11ea_a8f1_a1e085e58ba9level0_row6\" class=\"row_heading level0 row6\" >duracao</th>\n",
       "                        <td id=\"T_76483f3c_c604_11ea_a8f1_a1e085e58ba9row6_col0\" class=\"data row6 col0\" >0.27</td>\n",
       "                        <td id=\"T_76483f3c_c604_11ea_a8f1_a1e085e58ba9row6_col1\" class=\"data row6 col1\" >-0.06</td>\n",
       "                        <td id=\"T_76483f3c_c604_11ea_a8f1_a1e085e58ba9row6_col2\" class=\"data row6 col2\" >0.19</td>\n",
       "                        <td id=\"T_76483f3c_c604_11ea_a8f1_a1e085e58ba9row6_col3\" class=\"data row6 col3\" >0.33</td>\n",
       "                        <td id=\"T_76483f3c_c604_11ea_a8f1_a1e085e58ba9row6_col4\" class=\"data row6 col4\" >0.17</td>\n",
       "                        <td id=\"T_76483f3c_c604_11ea_a8f1_a1e085e58ba9row6_col5\" class=\"data row6 col5\" >0.18</td>\n",
       "                        <td id=\"T_76483f3c_c604_11ea_a8f1_a1e085e58ba9row6_col6\" class=\"data row6 col6\" >1.00</td>\n",
       "                        <td id=\"T_76483f3c_c604_11ea_a8f1_a1e085e58ba9row6_col7\" class=\"data row6 col7\" >-0.21</td>\n",
       "                        <td id=\"T_76483f3c_c604_11ea_a8f1_a1e085e58ba9row6_col8\" class=\"data row6 col8\" >-0.84</td>\n",
       "                        <td id=\"T_76483f3c_c604_11ea_a8f1_a1e085e58ba9row6_col9\" class=\"data row6 col9\" >-0.51</td>\n",
       "            </tr>\n",
       "            <tr>\n",
       "                        <th id=\"T_76483f3c_c604_11ea_a8f1_a1e085e58ba9level0_row7\" class=\"row_heading level0 row7\" >data</th>\n",
       "                        <td id=\"T_76483f3c_c604_11ea_a8f1_a1e085e58ba9row7_col0\" class=\"data row7 col0\" >-0.10</td>\n",
       "                        <td id=\"T_76483f3c_c604_11ea_a8f1_a1e085e58ba9row7_col1\" class=\"data row7 col1\" >0.03</td>\n",
       "                        <td id=\"T_76483f3c_c604_11ea_a8f1_a1e085e58ba9row7_col2\" class=\"data row7 col2\" >0.37</td>\n",
       "                        <td id=\"T_76483f3c_c604_11ea_a8f1_a1e085e58ba9row7_col3\" class=\"data row7 col3\" >0.18</td>\n",
       "                        <td id=\"T_76483f3c_c604_11ea_a8f1_a1e085e58ba9row7_col4\" class=\"data row7 col4\" >0.21</td>\n",
       "                        <td id=\"T_76483f3c_c604_11ea_a8f1_a1e085e58ba9row7_col5\" class=\"data row7 col5\" >-0.07</td>\n",
       "                        <td id=\"T_76483f3c_c604_11ea_a8f1_a1e085e58ba9row7_col6\" class=\"data row7 col6\" >-0.21</td>\n",
       "                        <td id=\"T_76483f3c_c604_11ea_a8f1_a1e085e58ba9row7_col7\" class=\"data row7 col7\" >1.00</td>\n",
       "                        <td id=\"T_76483f3c_c604_11ea_a8f1_a1e085e58ba9row7_col8\" class=\"data row7 col8\" >0.12</td>\n",
       "                        <td id=\"T_76483f3c_c604_11ea_a8f1_a1e085e58ba9row7_col9\" class=\"data row7 col9\" >-0.01</td>\n",
       "            </tr>\n",
       "            <tr>\n",
       "                        <th id=\"T_76483f3c_c604_11ea_a8f1_a1e085e58ba9level0_row8\" class=\"row_heading level0 row8\" >ratio1</th>\n",
       "                        <td id=\"T_76483f3c_c604_11ea_a8f1_a1e085e58ba9row8_col0\" class=\"data row8 col0\" >-0.21</td>\n",
       "                        <td id=\"T_76483f3c_c604_11ea_a8f1_a1e085e58ba9row8_col1\" class=\"data row8 col1\" >0.17</td>\n",
       "                        <td id=\"T_76483f3c_c604_11ea_a8f1_a1e085e58ba9row8_col2\" class=\"data row8 col2\" >-0.22</td>\n",
       "                        <td id=\"T_76483f3c_c604_11ea_a8f1_a1e085e58ba9row8_col3\" class=\"data row8 col3\" >-0.28</td>\n",
       "                        <td id=\"T_76483f3c_c604_11ea_a8f1_a1e085e58ba9row8_col4\" class=\"data row8 col4\" >-0.23</td>\n",
       "                        <td id=\"T_76483f3c_c604_11ea_a8f1_a1e085e58ba9row8_col5\" class=\"data row8 col5\" >-0.14</td>\n",
       "                        <td id=\"T_76483f3c_c604_11ea_a8f1_a1e085e58ba9row8_col6\" class=\"data row8 col6\" >-0.84</td>\n",
       "                        <td id=\"T_76483f3c_c604_11ea_a8f1_a1e085e58ba9row8_col7\" class=\"data row8 col7\" >0.12</td>\n",
       "                        <td id=\"T_76483f3c_c604_11ea_a8f1_a1e085e58ba9row8_col8\" class=\"data row8 col8\" >1.00</td>\n",
       "                        <td id=\"T_76483f3c_c604_11ea_a8f1_a1e085e58ba9row8_col9\" class=\"data row8 col9\" >0.72</td>\n",
       "            </tr>\n",
       "            <tr>\n",
       "                        <th id=\"T_76483f3c_c604_11ea_a8f1_a1e085e58ba9level0_row9\" class=\"row_heading level0 row9\" >ratio2</th>\n",
       "                        <td id=\"T_76483f3c_c604_11ea_a8f1_a1e085e58ba9row9_col0\" class=\"data row9 col0\" >-0.25</td>\n",
       "                        <td id=\"T_76483f3c_c604_11ea_a8f1_a1e085e58ba9row9_col1\" class=\"data row9 col1\" >0.12</td>\n",
       "                        <td id=\"T_76483f3c_c604_11ea_a8f1_a1e085e58ba9row9_col2\" class=\"data row9 col2\" >-0.10</td>\n",
       "                        <td id=\"T_76483f3c_c604_11ea_a8f1_a1e085e58ba9row9_col3\" class=\"data row9 col3\" >-0.11</td>\n",
       "                        <td id=\"T_76483f3c_c604_11ea_a8f1_a1e085e58ba9row9_col4\" class=\"data row9 col4\" >-0.02</td>\n",
       "                        <td id=\"T_76483f3c_c604_11ea_a8f1_a1e085e58ba9row9_col5\" class=\"data row9 col5\" >0.04</td>\n",
       "                        <td id=\"T_76483f3c_c604_11ea_a8f1_a1e085e58ba9row9_col6\" class=\"data row9 col6\" >-0.51</td>\n",
       "                        <td id=\"T_76483f3c_c604_11ea_a8f1_a1e085e58ba9row9_col7\" class=\"data row9 col7\" >-0.01</td>\n",
       "                        <td id=\"T_76483f3c_c604_11ea_a8f1_a1e085e58ba9row9_col8\" class=\"data row9 col8\" >0.72</td>\n",
       "                        <td id=\"T_76483f3c_c604_11ea_a8f1_a1e085e58ba9row9_col9\" class=\"data row9 col9\" >1.00</td>\n",
       "            </tr>\n",
       "    </tbody></table>"
      ],
      "text/plain": [
       "<pandas.io.formats.style.Styler at 0x7f6d713de1f0>"
      ]
     },
     "execution_count": 57,
     "metadata": {},
     "output_type": "execute_result"
    }
   ],
   "source": [
    "corr = c_quiz_prof.corr()\n",
    "\n",
    "corr.style.background_gradient(cmap='coolwarm').set_precision(2)"
   ]
  },
  {
   "cell_type": "code",
   "execution_count": 58,
   "metadata": {},
   "outputs": [
    {
     "data": {
      "text/html": [
       "<style  type=\"text/css\" >\n",
       "    #T_76483f3d_c604_11ea_a8f1_a1e085e58ba9row0_col0 {\n",
       "            background-color:  #b40426;\n",
       "            color:  #f1f1f1;\n",
       "        }    #T_76483f3d_c604_11ea_a8f1_a1e085e58ba9row0_col1 {\n",
       "            background-color:  #f1cdba;\n",
       "            color:  #000000;\n",
       "        }    #T_76483f3d_c604_11ea_a8f1_a1e085e58ba9row0_col2 {\n",
       "            background-color:  #536edd;\n",
       "            color:  #000000;\n",
       "        }    #T_76483f3d_c604_11ea_a8f1_a1e085e58ba9row0_col3 {\n",
       "            background-color:  #6788ee;\n",
       "            color:  #000000;\n",
       "        }    #T_76483f3d_c604_11ea_a8f1_a1e085e58ba9row0_col4 {\n",
       "            background-color:  #5b7ae5;\n",
       "            color:  #000000;\n",
       "        }    #T_76483f3d_c604_11ea_a8f1_a1e085e58ba9row0_col5 {\n",
       "            background-color:  #465ecf;\n",
       "            color:  #f1f1f1;\n",
       "        }    #T_76483f3d_c604_11ea_a8f1_a1e085e58ba9row0_col6 {\n",
       "            background-color:  #f2cab5;\n",
       "            color:  #000000;\n",
       "        }    #T_76483f3d_c604_11ea_a8f1_a1e085e58ba9row0_col7 {\n",
       "            background-color:  #4a63d3;\n",
       "            color:  #f1f1f1;\n",
       "        }    #T_76483f3d_c604_11ea_a8f1_a1e085e58ba9row0_col8 {\n",
       "            background-color:  #9dbdff;\n",
       "            color:  #000000;\n",
       "        }    #T_76483f3d_c604_11ea_a8f1_a1e085e58ba9row0_col9 {\n",
       "            background-color:  #4a63d3;\n",
       "            color:  #f1f1f1;\n",
       "        }    #T_76483f3d_c604_11ea_a8f1_a1e085e58ba9row1_col0 {\n",
       "            background-color:  #f3c7b1;\n",
       "            color:  #000000;\n",
       "        }    #T_76483f3d_c604_11ea_a8f1_a1e085e58ba9row1_col1 {\n",
       "            background-color:  #b40426;\n",
       "            color:  #f1f1f1;\n",
       "        }    #T_76483f3d_c604_11ea_a8f1_a1e085e58ba9row1_col2 {\n",
       "            background-color:  #4b64d5;\n",
       "            color:  #f1f1f1;\n",
       "        }    #T_76483f3d_c604_11ea_a8f1_a1e085e58ba9row1_col3 {\n",
       "            background-color:  #5b7ae5;\n",
       "            color:  #000000;\n",
       "        }    #T_76483f3d_c604_11ea_a8f1_a1e085e58ba9row1_col4 {\n",
       "            background-color:  #516ddb;\n",
       "            color:  #000000;\n",
       "        }    #T_76483f3d_c604_11ea_a8f1_a1e085e58ba9row1_col5 {\n",
       "            background-color:  #3f53c6;\n",
       "            color:  #f1f1f1;\n",
       "        }    #T_76483f3d_c604_11ea_a8f1_a1e085e58ba9row1_col6 {\n",
       "            background-color:  #f5c2aa;\n",
       "            color:  #000000;\n",
       "        }    #T_76483f3d_c604_11ea_a8f1_a1e085e58ba9row1_col7 {\n",
       "            background-color:  #5e7de7;\n",
       "            color:  #000000;\n",
       "        }    #T_76483f3d_c604_11ea_a8f1_a1e085e58ba9row1_col8 {\n",
       "            background-color:  #98b9ff;\n",
       "            color:  #000000;\n",
       "        }    #T_76483f3d_c604_11ea_a8f1_a1e085e58ba9row1_col9 {\n",
       "            background-color:  #5d7ce6;\n",
       "            color:  #000000;\n",
       "        }    #T_76483f3d_c604_11ea_a8f1_a1e085e58ba9row2_col0 {\n",
       "            background-color:  #7ea1fa;\n",
       "            color:  #000000;\n",
       "        }    #T_76483f3d_c604_11ea_a8f1_a1e085e58ba9row2_col1 {\n",
       "            background-color:  #6687ed;\n",
       "            color:  #000000;\n",
       "        }    #T_76483f3d_c604_11ea_a8f1_a1e085e58ba9row2_col2 {\n",
       "            background-color:  #b40426;\n",
       "            color:  #f1f1f1;\n",
       "        }    #T_76483f3d_c604_11ea_a8f1_a1e085e58ba9row2_col3 {\n",
       "            background-color:  #c83836;\n",
       "            color:  #f1f1f1;\n",
       "        }    #T_76483f3d_c604_11ea_a8f1_a1e085e58ba9row2_col4 {\n",
       "            background-color:  #e67259;\n",
       "            color:  #000000;\n",
       "        }    #T_76483f3d_c604_11ea_a8f1_a1e085e58ba9row2_col5 {\n",
       "            background-color:  #f7b497;\n",
       "            color:  #000000;\n",
       "        }    #T_76483f3d_c604_11ea_a8f1_a1e085e58ba9row2_col6 {\n",
       "            background-color:  #ecd3c5;\n",
       "            color:  #000000;\n",
       "        }    #T_76483f3d_c604_11ea_a8f1_a1e085e58ba9row2_col7 {\n",
       "            background-color:  #d8dce2;\n",
       "            color:  #000000;\n",
       "        }    #T_76483f3d_c604_11ea_a8f1_a1e085e58ba9row2_col8 {\n",
       "            background-color:  #aac7fd;\n",
       "            color:  #000000;\n",
       "        }    #T_76483f3d_c604_11ea_a8f1_a1e085e58ba9row2_col9 {\n",
       "            background-color:  #93b5fe;\n",
       "            color:  #000000;\n",
       "        }    #T_76483f3d_c604_11ea_a8f1_a1e085e58ba9row3_col0 {\n",
       "            background-color:  #86a9fc;\n",
       "            color:  #000000;\n",
       "        }    #T_76483f3d_c604_11ea_a8f1_a1e085e58ba9row3_col1 {\n",
       "            background-color:  #6a8bef;\n",
       "            color:  #000000;\n",
       "        }    #T_76483f3d_c604_11ea_a8f1_a1e085e58ba9row3_col2 {\n",
       "            background-color:  #ca3b37;\n",
       "            color:  #f1f1f1;\n",
       "        }    #T_76483f3d_c604_11ea_a8f1_a1e085e58ba9row3_col3 {\n",
       "            background-color:  #b40426;\n",
       "            color:  #f1f1f1;\n",
       "        }    #T_76483f3d_c604_11ea_a8f1_a1e085e58ba9row3_col4 {\n",
       "            background-color:  #f18d6f;\n",
       "            color:  #000000;\n",
       "        }    #T_76483f3d_c604_11ea_a8f1_a1e085e58ba9row3_col5 {\n",
       "            background-color:  #f18f71;\n",
       "            color:  #000000;\n",
       "        }    #T_76483f3d_c604_11ea_a8f1_a1e085e58ba9row3_col6 {\n",
       "            background-color:  #f5c1a9;\n",
       "            color:  #000000;\n",
       "        }    #T_76483f3d_c604_11ea_a8f1_a1e085e58ba9row3_col7 {\n",
       "            background-color:  #a5c3fe;\n",
       "            color:  #000000;\n",
       "        }    #T_76483f3d_c604_11ea_a8f1_a1e085e58ba9row3_col8 {\n",
       "            background-color:  #a1c0ff;\n",
       "            color:  #000000;\n",
       "        }    #T_76483f3d_c604_11ea_a8f1_a1e085e58ba9row3_col9 {\n",
       "            background-color:  #92b4fe;\n",
       "            color:  #000000;\n",
       "        }    #T_76483f3d_c604_11ea_a8f1_a1e085e58ba9row4_col0 {\n",
       "            background-color:  #86a9fc;\n",
       "            color:  #000000;\n",
       "        }    #T_76483f3d_c604_11ea_a8f1_a1e085e58ba9row4_col1 {\n",
       "            background-color:  #6c8ff1;\n",
       "            color:  #000000;\n",
       "        }    #T_76483f3d_c604_11ea_a8f1_a1e085e58ba9row4_col2 {\n",
       "            background-color:  #e67259;\n",
       "            color:  #000000;\n",
       "        }    #T_76483f3d_c604_11ea_a8f1_a1e085e58ba9row4_col3 {\n",
       "            background-color:  #f08a6c;\n",
       "            color:  #000000;\n",
       "        }    #T_76483f3d_c604_11ea_a8f1_a1e085e58ba9row4_col4 {\n",
       "            background-color:  #b40426;\n",
       "            color:  #f1f1f1;\n",
       "        }    #T_76483f3d_c604_11ea_a8f1_a1e085e58ba9row4_col5 {\n",
       "            background-color:  #f7a889;\n",
       "            color:  #000000;\n",
       "        }    #T_76483f3d_c604_11ea_a8f1_a1e085e58ba9row4_col6 {\n",
       "            background-color:  #e9d5cb;\n",
       "            color:  #000000;\n",
       "        }    #T_76483f3d_c604_11ea_a8f1_a1e085e58ba9row4_col7 {\n",
       "            background-color:  #afcafc;\n",
       "            color:  #000000;\n",
       "        }    #T_76483f3d_c604_11ea_a8f1_a1e085e58ba9row4_col8 {\n",
       "            background-color:  #aac7fd;\n",
       "            color:  #000000;\n",
       "        }    #T_76483f3d_c604_11ea_a8f1_a1e085e58ba9row4_col9 {\n",
       "            background-color:  #a6c4fe;\n",
       "            color:  #000000;\n",
       "        }    #T_76483f3d_c604_11ea_a8f1_a1e085e58ba9row5_col0 {\n",
       "            background-color:  #88abfd;\n",
       "            color:  #000000;\n",
       "        }    #T_76483f3d_c604_11ea_a8f1_a1e085e58ba9row5_col1 {\n",
       "            background-color:  #6f92f3;\n",
       "            color:  #000000;\n",
       "        }    #T_76483f3d_c604_11ea_a8f1_a1e085e58ba9row5_col2 {\n",
       "            background-color:  #f7ac8e;\n",
       "            color:  #000000;\n",
       "        }    #T_76483f3d_c604_11ea_a8f1_a1e085e58ba9row5_col3 {\n",
       "            background-color:  #ee8468;\n",
       "            color:  #000000;\n",
       "        }    #T_76483f3d_c604_11ea_a8f1_a1e085e58ba9row5_col4 {\n",
       "            background-color:  #f5a081;\n",
       "            color:  #000000;\n",
       "        }    #T_76483f3d_c604_11ea_a8f1_a1e085e58ba9row5_col5 {\n",
       "            background-color:  #b40426;\n",
       "            color:  #f1f1f1;\n",
       "        }    #T_76483f3d_c604_11ea_a8f1_a1e085e58ba9row5_col6 {\n",
       "            background-color:  #ead4c8;\n",
       "            color:  #000000;\n",
       "        }    #T_76483f3d_c604_11ea_a8f1_a1e085e58ba9row5_col7 {\n",
       "            background-color:  #5e7de7;\n",
       "            color:  #000000;\n",
       "        }    #T_76483f3d_c604_11ea_a8f1_a1e085e58ba9row5_col8 {\n",
       "            background-color:  #bad0f8;\n",
       "            color:  #000000;\n",
       "        }    #T_76483f3d_c604_11ea_a8f1_a1e085e58ba9row5_col9 {\n",
       "            background-color:  #b3cdfb;\n",
       "            color:  #000000;\n",
       "        }    #T_76483f3d_c604_11ea_a8f1_a1e085e58ba9row6_col0 {\n",
       "            background-color:  #d9dce1;\n",
       "            color:  #000000;\n",
       "        }    #T_76483f3d_c604_11ea_a8f1_a1e085e58ba9row6_col1 {\n",
       "            background-color:  #dbdcde;\n",
       "            color:  #000000;\n",
       "        }    #T_76483f3d_c604_11ea_a8f1_a1e085e58ba9row6_col2 {\n",
       "            background-color:  #adc9fd;\n",
       "            color:  #000000;\n",
       "        }    #T_76483f3d_c604_11ea_a8f1_a1e085e58ba9row6_col3 {\n",
       "            background-color:  #d5dbe5;\n",
       "            color:  #000000;\n",
       "        }    #T_76483f3d_c604_11ea_a8f1_a1e085e58ba9row6_col4 {\n",
       "            background-color:  #a6c4fe;\n",
       "            color:  #000000;\n",
       "        }    #T_76483f3d_c604_11ea_a8f1_a1e085e58ba9row6_col5 {\n",
       "            background-color:  #97b8ff;\n",
       "            color:  #000000;\n",
       "        }    #T_76483f3d_c604_11ea_a8f1_a1e085e58ba9row6_col6 {\n",
       "            background-color:  #b40426;\n",
       "            color:  #f1f1f1;\n",
       "        }    #T_76483f3d_c604_11ea_a8f1_a1e085e58ba9row6_col7 {\n",
       "            background-color:  #3b4cc0;\n",
       "            color:  #f1f1f1;\n",
       "        }    #T_76483f3d_c604_11ea_a8f1_a1e085e58ba9row6_col8 {\n",
       "            background-color:  #3b4cc0;\n",
       "            color:  #f1f1f1;\n",
       "        }    #T_76483f3d_c604_11ea_a8f1_a1e085e58ba9row6_col9 {\n",
       "            background-color:  #3b4cc0;\n",
       "            color:  #f1f1f1;\n",
       "        }    #T_76483f3d_c604_11ea_a8f1_a1e085e58ba9row7_col0 {\n",
       "            background-color:  #7a9df8;\n",
       "            color:  #000000;\n",
       "        }    #T_76483f3d_c604_11ea_a8f1_a1e085e58ba9row7_col1 {\n",
       "            background-color:  #7b9ff9;\n",
       "            color:  #000000;\n",
       "        }    #T_76483f3d_c604_11ea_a8f1_a1e085e58ba9row7_col2 {\n",
       "            background-color:  #dadce0;\n",
       "            color:  #000000;\n",
       "        }    #T_76483f3d_c604_11ea_a8f1_a1e085e58ba9row7_col3 {\n",
       "            background-color:  #b2ccfb;\n",
       "            color:  #000000;\n",
       "        }    #T_76483f3d_c604_11ea_a8f1_a1e085e58ba9row7_col4 {\n",
       "            background-color:  #b3cdfb;\n",
       "            color:  #000000;\n",
       "        }    #T_76483f3d_c604_11ea_a8f1_a1e085e58ba9row7_col5 {\n",
       "            background-color:  #4c66d6;\n",
       "            color:  #000000;\n",
       "        }    #T_76483f3d_c604_11ea_a8f1_a1e085e58ba9row7_col6 {\n",
       "            background-color:  #adc9fd;\n",
       "            color:  #000000;\n",
       "        }    #T_76483f3d_c604_11ea_a8f1_a1e085e58ba9row7_col7 {\n",
       "            background-color:  #b40426;\n",
       "            color:  #f1f1f1;\n",
       "        }    #T_76483f3d_c604_11ea_a8f1_a1e085e58ba9row7_col8 {\n",
       "            background-color:  #e2dad5;\n",
       "            color:  #000000;\n",
       "        }    #T_76483f3d_c604_11ea_a8f1_a1e085e58ba9row7_col9 {\n",
       "            background-color:  #a7c5fe;\n",
       "            color:  #000000;\n",
       "        }    #T_76483f3d_c604_11ea_a8f1_a1e085e58ba9row8_col0 {\n",
       "            background-color:  #5673e0;\n",
       "            color:  #000000;\n",
       "        }    #T_76483f3d_c604_11ea_a8f1_a1e085e58ba9row8_col1 {\n",
       "            background-color:  #3f53c6;\n",
       "            color:  #f1f1f1;\n",
       "        }    #T_76483f3d_c604_11ea_a8f1_a1e085e58ba9row8_col2 {\n",
       "            background-color:  #3b4cc0;\n",
       "            color:  #f1f1f1;\n",
       "        }    #T_76483f3d_c604_11ea_a8f1_a1e085e58ba9row8_col3 {\n",
       "            background-color:  #3b4cc0;\n",
       "            color:  #f1f1f1;\n",
       "        }    #T_76483f3d_c604_11ea_a8f1_a1e085e58ba9row8_col4 {\n",
       "            background-color:  #3b4cc0;\n",
       "            color:  #f1f1f1;\n",
       "        }    #T_76483f3d_c604_11ea_a8f1_a1e085e58ba9row8_col5 {\n",
       "            background-color:  #3b4cc0;\n",
       "            color:  #f1f1f1;\n",
       "        }    #T_76483f3d_c604_11ea_a8f1_a1e085e58ba9row8_col6 {\n",
       "            background-color:  #3b4cc0;\n",
       "            color:  #f1f1f1;\n",
       "        }    #T_76483f3d_c604_11ea_a8f1_a1e085e58ba9row8_col7 {\n",
       "            background-color:  #96b7ff;\n",
       "            color:  #000000;\n",
       "        }    #T_76483f3d_c604_11ea_a8f1_a1e085e58ba9row8_col8 {\n",
       "            background-color:  #b40426;\n",
       "            color:  #f1f1f1;\n",
       "        }    #T_76483f3d_c604_11ea_a8f1_a1e085e58ba9row8_col9 {\n",
       "            background-color:  #eb7d62;\n",
       "            color:  #000000;\n",
       "        }    #T_76483f3d_c604_11ea_a8f1_a1e085e58ba9row9_col0 {\n",
       "            background-color:  #3b4cc0;\n",
       "            color:  #f1f1f1;\n",
       "        }    #T_76483f3d_c604_11ea_a8f1_a1e085e58ba9row9_col1 {\n",
       "            background-color:  #3b4cc0;\n",
       "            color:  #f1f1f1;\n",
       "        }    #T_76483f3d_c604_11ea_a8f1_a1e085e58ba9row9_col2 {\n",
       "            background-color:  #5977e3;\n",
       "            color:  #000000;\n",
       "        }    #T_76483f3d_c604_11ea_a8f1_a1e085e58ba9row9_col3 {\n",
       "            background-color:  #6384eb;\n",
       "            color:  #000000;\n",
       "        }    #T_76483f3d_c604_11ea_a8f1_a1e085e58ba9row9_col4 {\n",
       "            background-color:  #6f92f3;\n",
       "            color:  #000000;\n",
       "        }    #T_76483f3d_c604_11ea_a8f1_a1e085e58ba9row9_col5 {\n",
       "            background-color:  #6b8df0;\n",
       "            color:  #000000;\n",
       "        }    #T_76483f3d_c604_11ea_a8f1_a1e085e58ba9row9_col6 {\n",
       "            background-color:  #7597f6;\n",
       "            color:  #000000;\n",
       "        }    #T_76483f3d_c604_11ea_a8f1_a1e085e58ba9row9_col7 {\n",
       "            background-color:  #6e90f2;\n",
       "            color:  #000000;\n",
       "        }    #T_76483f3d_c604_11ea_a8f1_a1e085e58ba9row9_col8 {\n",
       "            background-color:  #e46e56;\n",
       "            color:  #000000;\n",
       "        }    #T_76483f3d_c604_11ea_a8f1_a1e085e58ba9row9_col9 {\n",
       "            background-color:  #b40426;\n",
       "            color:  #f1f1f1;\n",
       "        }</style><table id=\"T_76483f3d_c604_11ea_a8f1_a1e085e58ba9\" ><thead>    <tr>        <th class=\"blank level0\" ></th>        <th class=\"col_heading level0 col0\" >densidade</th>        <th class=\"col_heading level0 col1\" >dificuldade</th>        <th class=\"col_heading level0 col2\" >visualizacoes</th>        <th class=\"col_heading level0 col3\" >curtidas</th>        <th class=\"col_heading level0 col4\" >descurtidas</th>        <th class=\"col_heading level0 col5\" >comentarios</th>        <th class=\"col_heading level0 col6\" >duracao</th>        <th class=\"col_heading level0 col7\" >data</th>        <th class=\"col_heading level0 col8\" >ratio1</th>        <th class=\"col_heading level0 col9\" >ratio2</th>    </tr></thead><tbody>\n",
       "                <tr>\n",
       "                        <th id=\"T_76483f3d_c604_11ea_a8f1_a1e085e58ba9level0_row0\" class=\"row_heading level0 row0\" >densidade</th>\n",
       "                        <td id=\"T_76483f3d_c604_11ea_a8f1_a1e085e58ba9row0_col0\" class=\"data row0 col0\" >1.00</td>\n",
       "                        <td id=\"T_76483f3d_c604_11ea_a8f1_a1e085e58ba9row0_col1\" class=\"data row0 col1\" >0.45</td>\n",
       "                        <td id=\"T_76483f3d_c604_11ea_a8f1_a1e085e58ba9row0_col2\" class=\"data row0 col2\" >-0.13</td>\n",
       "                        <td id=\"T_76483f3d_c604_11ea_a8f1_a1e085e58ba9row0_col3\" class=\"data row0 col3\" >-0.10</td>\n",
       "                        <td id=\"T_76483f3d_c604_11ea_a8f1_a1e085e58ba9row0_col4\" class=\"data row0 col4\" >-0.10</td>\n",
       "                        <td id=\"T_76483f3d_c604_11ea_a8f1_a1e085e58ba9row0_col5\" class=\"data row0 col5\" >-0.09</td>\n",
       "                        <td id=\"T_76483f3d_c604_11ea_a8f1_a1e085e58ba9row0_col6\" class=\"data row0 col6\" >0.27</td>\n",
       "                        <td id=\"T_76483f3d_c604_11ea_a8f1_a1e085e58ba9row0_col7\" class=\"data row0 col7\" >-0.14</td>\n",
       "                        <td id=\"T_76483f3d_c604_11ea_a8f1_a1e085e58ba9row0_col8\" class=\"data row0 col8\" >-0.30</td>\n",
       "                        <td id=\"T_76483f3d_c604_11ea_a8f1_a1e085e58ba9row0_col9\" class=\"data row0 col9\" >-0.43</td>\n",
       "            </tr>\n",
       "            <tr>\n",
       "                        <th id=\"T_76483f3d_c604_11ea_a8f1_a1e085e58ba9level0_row1\" class=\"row_heading level0 row1\" >dificuldade</th>\n",
       "                        <td id=\"T_76483f3d_c604_11ea_a8f1_a1e085e58ba9row1_col0\" class=\"data row1 col0\" >0.45</td>\n",
       "                        <td id=\"T_76483f3d_c604_11ea_a8f1_a1e085e58ba9row1_col1\" class=\"data row1 col1\" >1.00</td>\n",
       "                        <td id=\"T_76483f3d_c604_11ea_a8f1_a1e085e58ba9row1_col2\" class=\"data row1 col2\" >-0.16</td>\n",
       "                        <td id=\"T_76483f3d_c604_11ea_a8f1_a1e085e58ba9row1_col3\" class=\"data row1 col3\" >-0.14</td>\n",
       "                        <td id=\"T_76483f3d_c604_11ea_a8f1_a1e085e58ba9row1_col4\" class=\"data row1 col4\" >-0.13</td>\n",
       "                        <td id=\"T_76483f3d_c604_11ea_a8f1_a1e085e58ba9row1_col5\" class=\"data row1 col5\" >-0.12</td>\n",
       "                        <td id=\"T_76483f3d_c604_11ea_a8f1_a1e085e58ba9row1_col6\" class=\"data row1 col6\" >0.32</td>\n",
       "                        <td id=\"T_76483f3d_c604_11ea_a8f1_a1e085e58ba9row1_col7\" class=\"data row1 col7\" >-0.07</td>\n",
       "                        <td id=\"T_76483f3d_c604_11ea_a8f1_a1e085e58ba9row1_col8\" class=\"data row1 col8\" >-0.32</td>\n",
       "                        <td id=\"T_76483f3d_c604_11ea_a8f1_a1e085e58ba9row1_col9\" class=\"data row1 col9\" >-0.34</td>\n",
       "            </tr>\n",
       "            <tr>\n",
       "                        <th id=\"T_76483f3d_c604_11ea_a8f1_a1e085e58ba9level0_row2\" class=\"row_heading level0 row2\" >visualizacoes</th>\n",
       "                        <td id=\"T_76483f3d_c604_11ea_a8f1_a1e085e58ba9row2_col0\" class=\"data row2 col0\" >-0.13</td>\n",
       "                        <td id=\"T_76483f3d_c604_11ea_a8f1_a1e085e58ba9row2_col1\" class=\"data row2 col1\" >-0.16</td>\n",
       "                        <td id=\"T_76483f3d_c604_11ea_a8f1_a1e085e58ba9row2_col2\" class=\"data row2 col2\" >1.00</td>\n",
       "                        <td id=\"T_76483f3d_c604_11ea_a8f1_a1e085e58ba9row2_col3\" class=\"data row2 col3\" >0.93</td>\n",
       "                        <td id=\"T_76483f3d_c604_11ea_a8f1_a1e085e58ba9row2_col4\" class=\"data row2 col4\" >0.80</td>\n",
       "                        <td id=\"T_76483f3d_c604_11ea_a8f1_a1e085e58ba9row2_col5\" class=\"data row2 col5\" >0.63</td>\n",
       "                        <td id=\"T_76483f3d_c604_11ea_a8f1_a1e085e58ba9row2_col6\" class=\"data row2 col6\" >0.19</td>\n",
       "                        <td id=\"T_76483f3d_c604_11ea_a8f1_a1e085e58ba9row2_col7\" class=\"data row2 col7\" >0.37</td>\n",
       "                        <td id=\"T_76483f3d_c604_11ea_a8f1_a1e085e58ba9row2_col8\" class=\"data row2 col8\" >-0.22</td>\n",
       "                        <td id=\"T_76483f3d_c604_11ea_a8f1_a1e085e58ba9row2_col9\" class=\"data row2 col9\" >-0.10</td>\n",
       "            </tr>\n",
       "            <tr>\n",
       "                        <th id=\"T_76483f3d_c604_11ea_a8f1_a1e085e58ba9level0_row3\" class=\"row_heading level0 row3\" >curtidas</th>\n",
       "                        <td id=\"T_76483f3d_c604_11ea_a8f1_a1e085e58ba9row3_col0\" class=\"data row3 col0\" >-0.10</td>\n",
       "                        <td id=\"T_76483f3d_c604_11ea_a8f1_a1e085e58ba9row3_col1\" class=\"data row3 col1\" >-0.14</td>\n",
       "                        <td id=\"T_76483f3d_c604_11ea_a8f1_a1e085e58ba9row3_col2\" class=\"data row3 col2\" >0.93</td>\n",
       "                        <td id=\"T_76483f3d_c604_11ea_a8f1_a1e085e58ba9row3_col3\" class=\"data row3 col3\" >1.00</td>\n",
       "                        <td id=\"T_76483f3d_c604_11ea_a8f1_a1e085e58ba9row3_col4\" class=\"data row3 col4\" >0.73</td>\n",
       "                        <td id=\"T_76483f3d_c604_11ea_a8f1_a1e085e58ba9row3_col5\" class=\"data row3 col5\" >0.74</td>\n",
       "                        <td id=\"T_76483f3d_c604_11ea_a8f1_a1e085e58ba9row3_col6\" class=\"data row3 col6\" >0.33</td>\n",
       "                        <td id=\"T_76483f3d_c604_11ea_a8f1_a1e085e58ba9row3_col7\" class=\"data row3 col7\" >0.18</td>\n",
       "                        <td id=\"T_76483f3d_c604_11ea_a8f1_a1e085e58ba9row3_col8\" class=\"data row3 col8\" >-0.28</td>\n",
       "                        <td id=\"T_76483f3d_c604_11ea_a8f1_a1e085e58ba9row3_col9\" class=\"data row3 col9\" >-0.11</td>\n",
       "            </tr>\n",
       "            <tr>\n",
       "                        <th id=\"T_76483f3d_c604_11ea_a8f1_a1e085e58ba9level0_row4\" class=\"row_heading level0 row4\" >descurtidas</th>\n",
       "                        <td id=\"T_76483f3d_c604_11ea_a8f1_a1e085e58ba9row4_col0\" class=\"data row4 col0\" >-0.10</td>\n",
       "                        <td id=\"T_76483f3d_c604_11ea_a8f1_a1e085e58ba9row4_col1\" class=\"data row4 col1\" >-0.13</td>\n",
       "                        <td id=\"T_76483f3d_c604_11ea_a8f1_a1e085e58ba9row4_col2\" class=\"data row4 col2\" >0.80</td>\n",
       "                        <td id=\"T_76483f3d_c604_11ea_a8f1_a1e085e58ba9row4_col3\" class=\"data row4 col3\" >0.73</td>\n",
       "                        <td id=\"T_76483f3d_c604_11ea_a8f1_a1e085e58ba9row4_col4\" class=\"data row4 col4\" >1.00</td>\n",
       "                        <td id=\"T_76483f3d_c604_11ea_a8f1_a1e085e58ba9row4_col5\" class=\"data row4 col5\" >0.67</td>\n",
       "                        <td id=\"T_76483f3d_c604_11ea_a8f1_a1e085e58ba9row4_col6\" class=\"data row4 col6\" >0.17</td>\n",
       "                        <td id=\"T_76483f3d_c604_11ea_a8f1_a1e085e58ba9row4_col7\" class=\"data row4 col7\" >0.21</td>\n",
       "                        <td id=\"T_76483f3d_c604_11ea_a8f1_a1e085e58ba9row4_col8\" class=\"data row4 col8\" >-0.23</td>\n",
       "                        <td id=\"T_76483f3d_c604_11ea_a8f1_a1e085e58ba9row4_col9\" class=\"data row4 col9\" >-0.02</td>\n",
       "            </tr>\n",
       "            <tr>\n",
       "                        <th id=\"T_76483f3d_c604_11ea_a8f1_a1e085e58ba9level0_row5\" class=\"row_heading level0 row5\" >comentarios</th>\n",
       "                        <td id=\"T_76483f3d_c604_11ea_a8f1_a1e085e58ba9row5_col0\" class=\"data row5 col0\" >-0.09</td>\n",
       "                        <td id=\"T_76483f3d_c604_11ea_a8f1_a1e085e58ba9row5_col1\" class=\"data row5 col1\" >-0.12</td>\n",
       "                        <td id=\"T_76483f3d_c604_11ea_a8f1_a1e085e58ba9row5_col2\" class=\"data row5 col2\" >0.63</td>\n",
       "                        <td id=\"T_76483f3d_c604_11ea_a8f1_a1e085e58ba9row5_col3\" class=\"data row5 col3\" >0.74</td>\n",
       "                        <td id=\"T_76483f3d_c604_11ea_a8f1_a1e085e58ba9row5_col4\" class=\"data row5 col4\" >0.67</td>\n",
       "                        <td id=\"T_76483f3d_c604_11ea_a8f1_a1e085e58ba9row5_col5\" class=\"data row5 col5\" >1.00</td>\n",
       "                        <td id=\"T_76483f3d_c604_11ea_a8f1_a1e085e58ba9row5_col6\" class=\"data row5 col6\" >0.18</td>\n",
       "                        <td id=\"T_76483f3d_c604_11ea_a8f1_a1e085e58ba9row5_col7\" class=\"data row5 col7\" >-0.07</td>\n",
       "                        <td id=\"T_76483f3d_c604_11ea_a8f1_a1e085e58ba9row5_col8\" class=\"data row5 col8\" >-0.14</td>\n",
       "                        <td id=\"T_76483f3d_c604_11ea_a8f1_a1e085e58ba9row5_col9\" class=\"data row5 col9\" >0.04</td>\n",
       "            </tr>\n",
       "            <tr>\n",
       "                        <th id=\"T_76483f3d_c604_11ea_a8f1_a1e085e58ba9level0_row6\" class=\"row_heading level0 row6\" >duracao</th>\n",
       "                        <td id=\"T_76483f3d_c604_11ea_a8f1_a1e085e58ba9row6_col0\" class=\"data row6 col0\" >0.27</td>\n",
       "                        <td id=\"T_76483f3d_c604_11ea_a8f1_a1e085e58ba9row6_col1\" class=\"data row6 col1\" >0.32</td>\n",
       "                        <td id=\"T_76483f3d_c604_11ea_a8f1_a1e085e58ba9row6_col2\" class=\"data row6 col2\" >0.19</td>\n",
       "                        <td id=\"T_76483f3d_c604_11ea_a8f1_a1e085e58ba9row6_col3\" class=\"data row6 col3\" >0.33</td>\n",
       "                        <td id=\"T_76483f3d_c604_11ea_a8f1_a1e085e58ba9row6_col4\" class=\"data row6 col4\" >0.17</td>\n",
       "                        <td id=\"T_76483f3d_c604_11ea_a8f1_a1e085e58ba9row6_col5\" class=\"data row6 col5\" >0.18</td>\n",
       "                        <td id=\"T_76483f3d_c604_11ea_a8f1_a1e085e58ba9row6_col6\" class=\"data row6 col6\" >1.00</td>\n",
       "                        <td id=\"T_76483f3d_c604_11ea_a8f1_a1e085e58ba9row6_col7\" class=\"data row6 col7\" >-0.21</td>\n",
       "                        <td id=\"T_76483f3d_c604_11ea_a8f1_a1e085e58ba9row6_col8\" class=\"data row6 col8\" >-0.84</td>\n",
       "                        <td id=\"T_76483f3d_c604_11ea_a8f1_a1e085e58ba9row6_col9\" class=\"data row6 col9\" >-0.51</td>\n",
       "            </tr>\n",
       "            <tr>\n",
       "                        <th id=\"T_76483f3d_c604_11ea_a8f1_a1e085e58ba9level0_row7\" class=\"row_heading level0 row7\" >data</th>\n",
       "                        <td id=\"T_76483f3d_c604_11ea_a8f1_a1e085e58ba9row7_col0\" class=\"data row7 col0\" >-0.14</td>\n",
       "                        <td id=\"T_76483f3d_c604_11ea_a8f1_a1e085e58ba9row7_col1\" class=\"data row7 col1\" >-0.07</td>\n",
       "                        <td id=\"T_76483f3d_c604_11ea_a8f1_a1e085e58ba9row7_col2\" class=\"data row7 col2\" >0.37</td>\n",
       "                        <td id=\"T_76483f3d_c604_11ea_a8f1_a1e085e58ba9row7_col3\" class=\"data row7 col3\" >0.18</td>\n",
       "                        <td id=\"T_76483f3d_c604_11ea_a8f1_a1e085e58ba9row7_col4\" class=\"data row7 col4\" >0.21</td>\n",
       "                        <td id=\"T_76483f3d_c604_11ea_a8f1_a1e085e58ba9row7_col5\" class=\"data row7 col5\" >-0.07</td>\n",
       "                        <td id=\"T_76483f3d_c604_11ea_a8f1_a1e085e58ba9row7_col6\" class=\"data row7 col6\" >-0.21</td>\n",
       "                        <td id=\"T_76483f3d_c604_11ea_a8f1_a1e085e58ba9row7_col7\" class=\"data row7 col7\" >1.00</td>\n",
       "                        <td id=\"T_76483f3d_c604_11ea_a8f1_a1e085e58ba9row7_col8\" class=\"data row7 col8\" >0.12</td>\n",
       "                        <td id=\"T_76483f3d_c604_11ea_a8f1_a1e085e58ba9row7_col9\" class=\"data row7 col9\" >-0.01</td>\n",
       "            </tr>\n",
       "            <tr>\n",
       "                        <th id=\"T_76483f3d_c604_11ea_a8f1_a1e085e58ba9level0_row8\" class=\"row_heading level0 row8\" >ratio1</th>\n",
       "                        <td id=\"T_76483f3d_c604_11ea_a8f1_a1e085e58ba9row8_col0\" class=\"data row8 col0\" >-0.30</td>\n",
       "                        <td id=\"T_76483f3d_c604_11ea_a8f1_a1e085e58ba9row8_col1\" class=\"data row8 col1\" >-0.32</td>\n",
       "                        <td id=\"T_76483f3d_c604_11ea_a8f1_a1e085e58ba9row8_col2\" class=\"data row8 col2\" >-0.22</td>\n",
       "                        <td id=\"T_76483f3d_c604_11ea_a8f1_a1e085e58ba9row8_col3\" class=\"data row8 col3\" >-0.28</td>\n",
       "                        <td id=\"T_76483f3d_c604_11ea_a8f1_a1e085e58ba9row8_col4\" class=\"data row8 col4\" >-0.23</td>\n",
       "                        <td id=\"T_76483f3d_c604_11ea_a8f1_a1e085e58ba9row8_col5\" class=\"data row8 col5\" >-0.14</td>\n",
       "                        <td id=\"T_76483f3d_c604_11ea_a8f1_a1e085e58ba9row8_col6\" class=\"data row8 col6\" >-0.84</td>\n",
       "                        <td id=\"T_76483f3d_c604_11ea_a8f1_a1e085e58ba9row8_col7\" class=\"data row8 col7\" >0.12</td>\n",
       "                        <td id=\"T_76483f3d_c604_11ea_a8f1_a1e085e58ba9row8_col8\" class=\"data row8 col8\" >1.00</td>\n",
       "                        <td id=\"T_76483f3d_c604_11ea_a8f1_a1e085e58ba9row8_col9\" class=\"data row8 col9\" >0.72</td>\n",
       "            </tr>\n",
       "            <tr>\n",
       "                        <th id=\"T_76483f3d_c604_11ea_a8f1_a1e085e58ba9level0_row9\" class=\"row_heading level0 row9\" >ratio2</th>\n",
       "                        <td id=\"T_76483f3d_c604_11ea_a8f1_a1e085e58ba9row9_col0\" class=\"data row9 col0\" >-0.43</td>\n",
       "                        <td id=\"T_76483f3d_c604_11ea_a8f1_a1e085e58ba9row9_col1\" class=\"data row9 col1\" >-0.34</td>\n",
       "                        <td id=\"T_76483f3d_c604_11ea_a8f1_a1e085e58ba9row9_col2\" class=\"data row9 col2\" >-0.10</td>\n",
       "                        <td id=\"T_76483f3d_c604_11ea_a8f1_a1e085e58ba9row9_col3\" class=\"data row9 col3\" >-0.11</td>\n",
       "                        <td id=\"T_76483f3d_c604_11ea_a8f1_a1e085e58ba9row9_col4\" class=\"data row9 col4\" >-0.02</td>\n",
       "                        <td id=\"T_76483f3d_c604_11ea_a8f1_a1e085e58ba9row9_col5\" class=\"data row9 col5\" >0.04</td>\n",
       "                        <td id=\"T_76483f3d_c604_11ea_a8f1_a1e085e58ba9row9_col6\" class=\"data row9 col6\" >-0.51</td>\n",
       "                        <td id=\"T_76483f3d_c604_11ea_a8f1_a1e085e58ba9row9_col7\" class=\"data row9 col7\" >-0.01</td>\n",
       "                        <td id=\"T_76483f3d_c604_11ea_a8f1_a1e085e58ba9row9_col8\" class=\"data row9 col8\" >0.72</td>\n",
       "                        <td id=\"T_76483f3d_c604_11ea_a8f1_a1e085e58ba9row9_col9\" class=\"data row9 col9\" >1.00</td>\n",
       "            </tr>\n",
       "    </tbody></table>"
      ],
      "text/plain": [
       "<pandas.io.formats.style.Styler at 0x7f6d70e71c70>"
      ]
     },
     "execution_count": 58,
     "metadata": {},
     "output_type": "execute_result"
    }
   ],
   "source": [
    "corr = c_quiz_aluno.corr()\n",
    "\n",
    "corr.style.background_gradient(cmap='coolwarm').set_precision(2)"
   ]
  },
  {
   "cell_type": "code",
   "execution_count": 59,
   "metadata": {},
   "outputs": [
    {
     "data": {
      "text/plain": [
       "url              https://www.youtube.com/watch?v=YUeiAhpPMjQ\n",
       "recurso                  Apresentação, Demonstração, Exemplo\n",
       "densidade                                                  4\n",
       "dificuldade                                                3\n",
       "visualizacoes                                       0.930412\n",
       "curtidas                                            0.115979\n",
       "descurtidas                                                0\n",
       "comentarios                                       0.00773196\n",
       "duracao                                                 1118\n",
       "data                                                     388\n",
       "ratio1                                              0.312817\n",
       "ratio2                                              0.482402\n",
       "Name: 1, dtype: object"
      ]
     },
     "execution_count": 59,
     "metadata": {},
     "output_type": "execute_result"
    }
   ],
   "source": [
    "c_quiz_prof.iloc[1]\n"
   ]
  },
  {
   "cell_type": "markdown",
   "metadata": {},
   "source": [
    "# Tentando lidar com os tipos de recurso de aprendizagem"
   ]
  },
  {
   "cell_type": "code",
   "execution_count": 60,
   "metadata": {},
   "outputs": [],
   "source": [
    "mapeamento = {'Analogia': 0, \n",
    "              'Apresentação': 1,\n",
    "              'Avaliação': 2,\n",
    "              'Declaração': 3,\n",
    "              'Definição': 4,\n",
    "              'Demonstração': 5,\n",
    "              'Diagrama': 6,\n",
    "              'Exemplo': 7, \n",
    "              'Exercício': 8,\n",
    "              'Experiência': 9,\n",
    "              'Introdução': 10,\n",
    "              'Narrativa': 11,\n",
    "              'Palestra': 12,\n",
    "              'Problema': 13,\n",
    "              'Prova': 14,\n",
    "              'Questionário': 15,\n",
    "              'Resumo': 16,\n",
    "              'Simulação': 17,\n",
    "              'Slide': 18,\n",
    "              'Tabela': 19,\n",
    "              'Texto': 20,\n",
    "              'Visão Geral': 21}\n",
    "colunas_nomes = ['recurso'+str(numero) for numero in range(21)]\n"
   ]
  },
  {
   "cell_type": "code",
   "execution_count": 61,
   "metadata": {},
   "outputs": [],
   "source": [
    "def colunas_local(string):\n",
    "    \"\"\"\n",
    "        Retorna um vetor dos recursos presentes na coluna. Por exemplo, se a coluna\n",
    "        possuir 'Demonstração, Introdução', a função retornará [5, 10], de acordo \n",
    "        com o dicioário ´mapeamento´.\n",
    "    \"\"\"\n",
    "    return [mapeamento[item] for item in string.split(', ')]\n",
    "            "
   ]
  },
  {
   "cell_type": "code",
   "execution_count": 62,
   "metadata": {},
   "outputs": [],
   "source": [
    "def get_one_recursos(questionario):\n",
    "    \"\"\"\n",
    "        Gera uma matriz com 22 colunas, em que a i,j célula é 1 se a \n",
    "        j-ésimo recurso de aprendizagem foi identificado no i-ésimo registro. Caso contrário,\n",
    "        a célula possui valor 0.\n",
    "    \"\"\"\n",
    "    recursos = questionario.loc[:, 'recurso']\n",
    "\n",
    "    matriz = []\n",
    "    for row in recursos:\n",
    "        recursos_linha = colunas_local(row)\n",
    "\n",
    "        res = []\n",
    "        for idx in range(22):\n",
    "            if idx not in recursos_linha:\n",
    "                res.append(0)\n",
    "            else:\n",
    "                res.append(1)\n",
    "        matriz.append(res)\n",
    "    return matriz"
   ]
  },
  {
   "cell_type": "code",
   "execution_count": 63,
   "metadata": {},
   "outputs": [],
   "source": [
    "def gera_colunas(questionario):\n",
    "    \"\"\"\n",
    "        A partir da matriz gerada na função get_one_recursos, são criadas 22 colunas\n",
    "        no dataFrame, nomeadamente recurso0, recurso1, ..., recurso21. \n",
    "    \"\"\"\n",
    "    matriz = get_one_recursos(questionario)\n",
    "\n",
    "    matriz = np.array(matriz).T\n",
    "    \n",
    "    for column in range(22):\n",
    "        questionario.insert(column+3, 'recurso'+str(column), matriz[column])\n",
    "        "
   ]
  },
  {
   "cell_type": "code",
   "execution_count": 64,
   "metadata": {},
   "outputs": [],
   "source": [
    "gera_colunas(c_quiz_prof)\n",
    "gera_colunas(c_quiz_aluno)"
   ]
  },
  {
   "cell_type": "code",
   "execution_count": 118,
   "metadata": {},
   "outputs": [],
   "source": [
    "def plota_barras(questionario):\n",
    "    \"\"\"\n",
    "        Função que itera ao longo dos recursos0, ..., recurso21 e os\n",
    "        plota em um diagrama de barras.\n",
    "    \"\"\"\n",
    "    marcados = []\n",
    "    for i in range(22):\n",
    "        m = questionario.iloc[:, i+3].sum(axis=0)\n",
    "        marcados.append(m)\n",
    "\n",
    "    dicionario = {}\n",
    "    for name, idx in mapeamento.items():\n",
    "        dicionario[name] = marcados[idx] \n",
    "    data = pd.DataFrame([dicionario])\n",
    "\n",
    "\n",
    "    data.plot(kind='bar', figsize=(15, 8))\n",
    "    plt.ylabel('Quantidade de Respostas')\n",
    "    plt.savefig('teste.png', dpi=300)\n"
   ]
  },
  {
   "cell_type": "code",
   "execution_count": 117,
   "metadata": {},
   "outputs": [
    {
     "data": {
      "image/png": "[encoded data removed]",
      "text/plain": [
       "<Figure size 1080x576 with 1 Axes>"
      ]
     },
     "metadata": {
      "needs_background": "light"
     },
     "output_type": "display_data"
    }
   ],
   "source": [
    "plota_barras(c_quiz_prof)"
   ]
  },
  {
   "cell_type": "code",
   "execution_count": 115,
   "metadata": {},
   "outputs": [
    {
     "data": {
      "image/png": "[encoded data removed]",
      "text/plain": [
       "<Figure size 1080x576 with 1 Axes>"
      ]
     },
     "metadata": {
      "needs_background": "light"
     },
     "output_type": "display_data"
    }
   ],
   "source": [
    "plota_barras(c_quiz_aluno)"
   ]
  },
  {
   "cell_type": "code",
   "execution_count": 126,
   "metadata": {},
   "outputs": [],
   "source": [
    "def plota_porcentagem(questionario):\n",
    "    \"\"\"\n",
    "        Função que itera ao longo dos recursos0, ..., recurso21 e os\n",
    "        plota em um diagrama de barras.\n",
    "    \"\"\"\n",
    "    marcados = []\n",
    "    for i in range(22):\n",
    "        m = questionario.iloc[:, i+3].sum(axis=0)\n",
    "        marcados.append(m)\n",
    "\n",
    "    dicionario = {}\n",
    "    for name, idx in mapeamento.items():\n",
    "        dicionario[name] = marcados[idx] / 61\n",
    "        print(name + \"  \" + str(100*dicionario[name]) + \"%\")\n",
    "    data = pd.DataFrame([dicionario])"
   ]
  },
  {
   "cell_type": "code",
   "execution_count": 127,
   "metadata": {},
   "outputs": [
    {
     "name": "stdout",
     "output_type": "stream",
     "text": [
      "Analogia  11.475409836065573%\n",
      "Apresentação  78.68852459016394%\n",
      "Avaliação  0.0%\n",
      "Declaração  1.639344262295082%\n",
      "Definição  27.86885245901639%\n",
      "Demonstração  62.295081967213115%\n",
      "Diagrama  8.19672131147541%\n",
      "Exemplo  73.77049180327869%\n",
      "Exercício  14.754098360655737%\n",
      "Experiência  1.639344262295082%\n",
      "Introdução  22.950819672131146%\n",
      "Narrativa  4.918032786885246%\n",
      "Palestra  8.19672131147541%\n",
      "Problema  6.557377049180328%\n",
      "Prova  0.0%\n",
      "Questionário  0.0%\n",
      "Resumo  1.639344262295082%\n",
      "Simulação  1.639344262295082%\n",
      "Slide  14.754098360655737%\n",
      "Tabela  3.278688524590164%\n",
      "Texto  4.918032786885246%\n",
      "Visão Geral  32.78688524590164%\n"
     ]
    }
   ],
   "source": [
    "plota_porcentagem(c_quiz_prof)"
   ]
  },
  {
   "cell_type": "code",
   "execution_count": 128,
   "metadata": {},
   "outputs": [
    {
     "name": "stdout",
     "output_type": "stream",
     "text": [
      "Analogia  21.311475409836063%\n",
      "Apresentação  59.01639344262295%\n",
      "Avaliação  0.0%\n",
      "Declaração  4.918032786885246%\n",
      "Definição  24.59016393442623%\n",
      "Demonstração  80.32786885245902%\n",
      "Diagrama  11.475409836065573%\n",
      "Exemplo  80.32786885245902%\n",
      "Exercício  29.508196721311474%\n",
      "Experiência  4.918032786885246%\n",
      "Introdução  8.19672131147541%\n",
      "Narrativa  24.59016393442623%\n",
      "Palestra  1.639344262295082%\n",
      "Problema  16.39344262295082%\n",
      "Prova  0.0%\n",
      "Questionário  0.0%\n",
      "Resumo  4.918032786885246%\n",
      "Simulação  16.39344262295082%\n",
      "Slide  32.78688524590164%\n",
      "Tabela  4.918032786885246%\n",
      "Texto  13.114754098360656%\n",
      "Visão Geral  14.754098360655737%\n"
     ]
    }
   ],
   "source": [
    "plota_porcentagem(c_quiz_aluno)"
   ]
  },
  {
   "cell_type": "code",
   "execution_count": null,
   "metadata": {},
   "outputs": [],
   "source": []
  }
 ],
 "metadata": {
  "kernelspec": {
   "display_name": "Python 3",
   "language": "python",
   "name": "python3"
  },
  "language_info": {
   "codemirror_mode": {
    "name": "ipython",
    "version": 3
   },
   "file_extension": ".py",
   "mimetype": "text/x-python",
   "name": "python",
   "nbconvert_exporter": "python",
   "pygments_lexer": "ipython3",
   "version": "3.8.2"
  }
 },
 "nbformat": 4,
 "nbformat_minor": 4
}
